{
 "cells": [
  {
   "cell_type": "markdown",
   "id": "701ea5d5",
   "metadata": {},
   "source": [
    "# 1. 프로토타이핑 - Notebook 베이스 (Voila)"
   ]
  },
  {
   "cell_type": "markdown",
   "id": "fc20095c",
   "metadata": {},
   "source": [
    "## 1.1 Voila\n",
    "\n",
    "- [https://github.com/voila-dashboards/voila](https://github.com/voila-dashboards/voila)\n",
    "- [https://voila-gallery.org/](https://voila-gallery.org/)\n",
    "- 본래 목적 : 대시보드\n",
    "- R의 Shiny와 유사\n",
    "- Notebook에서 별도의 코드 추가 없이 실행할 수 있는 점이 장점이다.\n",
    "- 2019년 12월에 jupyter의 하위 프로젝트로 통합됨"
   ]
  },
  {
   "cell_type": "markdown",
   "id": "d30f7ca5",
   "metadata": {},
   "source": [
    "<br>\n",
    "\n",
    "## 1.2 Voila의 장점\n",
    "\n",
    "1. Jupyter Notebook 결과를 쉽게 웹 형태로 띄울 수 있음\n",
    "2. Ipywidget, Ipyleaflet 등 사용 가능\n",
    "3. Jupyter Notebook의 Extension 있음(=노트북에서 바로 대시보드로 변환 가능)\n",
    "4. Python, Julia, C++ 코드 지원\n",
    "5. 고유한 템플릿 생성 가능\n",
    "6. 너무 쉬운 러닝커브"
   ]
  },
  {
   "cell_type": "markdown",
   "id": "6a3aa248",
   "metadata": {},
   "source": [
    "<br>\n",
    "\n",
    "## 1.3 설치\n",
    "\n",
    "jupyterlab 2.2.0 설치\n",
    "\n",
    "- voila extension이 jupyterlab 3.0 이상의 버전에서 호환이 안됨\n",
    "\n",
    "```bash\n",
    "pip install jupyterlab==2.2.0\n",
    "```\n",
    "\n",
    "toc extension 설치\n",
    "\n",
    "```bash\n",
    "jupyter labextension install @jupyterlab/toc\n",
    "```\n",
    "\n",
    "darcula theme extension 설치\n",
    "\n",
    "```bash\n",
    "jupyter labextension install @telamonian/theme-darcula\n",
    "```\n",
    "\n",
    "voila 설치\n",
    "\n",
    "```bash\n",
    "pip3 install voila\n",
    "```\n",
    "\n",
    "jupyterlab voila extension 설치\n",
    "\n",
    "```bash\n",
    "jupyter labextension install @jupyter-voila/jupyterlab-preview # jupyter lab\n",
    "```\n",
    "\n",
    "nbextension도 사용 가능하도록 하고 싶다면 다음과 같이 설정\n",
    "\n",
    "```bash\n",
    "voila --enable_nbextensions=True # jupyter lab\n",
    "```"
   ]
  },
  {
   "cell_type": "markdown",
   "id": "df014380",
   "metadata": {},
   "source": [
    "<br>\n",
    "\n",
    "## 1.4 voila 사용\n",
    "\n",
    "`http://locallhost:8888/volia`로 접근할 수도 있음\n",
    "\n",
    "<br>\n",
    "\n",
    "cli에서 사용\n",
    "\n",
    "```bash\n",
    "voila\n",
    "```\n",
    "\n",
    "- `http://localhost:8866`에서 확인할 수 있음"
   ]
  },
  {
   "cell_type": "markdown",
   "id": "78984407",
   "metadata": {},
   "source": [
    "<br>\n",
    "\n",
    "## 1.5 ipywidget\n",
    "\n",
    "- ipywidget으로 slider를 설정하여 사용할 수 있음\n",
    "\n",
    "```bash\n",
    "pip install ipywidgets\n",
    "jupyter labextension install @jupyter-widgets/jupyterlab-manager\n",
    "jupyter lab clean\n",
    "```"
   ]
  },
  {
   "cell_type": "code",
   "execution_count": null,
   "id": "3d698f8e",
   "metadata": {},
   "outputs": [],
   "source": [
    "import ipywidgets as widgets\n",
    "\n",
    "slider = widgets.FloatSlider(description=\"$x$\", value=4)\n",
    "text = widgets.FloatText(disabled=True, description=\"$x^2$\")"
   ]
  },
  {
   "cell_type": "code",
   "execution_count": 4,
   "id": "7c8c3162",
   "metadata": {},
   "outputs": [
    {
     "data": {
      "application/vnd.jupyter.widget-view+json": {
       "model_id": "cf5e9191585d45f1bb82ea9b4ab16d78",
       "version_major": 2,
       "version_minor": 0
      },
      "text/plain": [
       "VBox(children=(FloatSlider(value=4.0, description='$x$'), FloatText(value=0.0, description='$x^2$', disabled=T…"
      ]
     },
     "metadata": {},
     "output_type": "display_data"
    }
   ],
   "source": [
    "def compute(*ignore):\n",
    "    text.value = str(slider.value ** 2)\n",
    "    \n",
    "slider.observe(compute, \"value\")\n",
    "\n",
    "widgets.VBox([slider, text])"
   ]
  },
  {
   "cell_type": "code",
   "execution_count": 5,
   "id": "6bd46904",
   "metadata": {},
   "outputs": [],
   "source": [
    "import pandas as pd\n",
    "\n",
    "iris = pd.read_csv(\"https://raw.githubusercontent.com/mwaskom/seaborn-data/master/iris.csv\")\n",
    "iris.tail()"
   ]
  },
  {
   "cell_type": "markdown",
   "id": "6eb03f31",
   "metadata": {},
   "source": [
    "<br>\n",
    "\n",
    "## 1.6 Voila 사용 시 tip"
   ]
  },
  {
   "cell_type": "markdown",
   "id": "a6db4fc4",
   "metadata": {},
   "source": [
    "### 1.6.1 코드 함께 보기\n",
    "\n",
    "- `--striip_sources=False`와 함께 실행하면 Voila에서 코드도 보임 (직접 실행은 불가능)\n",
    "\n",
    "```bash\n",
    "voila ./01_Voila.ipynb --strip_sources=False\n",
    "```"
   ]
  },
  {
   "cell_type": "markdown",
   "id": "e3f5b7d5",
   "metadata": {},
   "source": [
    "<br>\n",
    "\n",
    "### 1.6.2 cull 옵션\n",
    "\n",
    "- voila 노트북을 사용하지 않을 때 자동으로 종료해야 한다.\n",
    "- idle 상태인 경우 cull (끄는 행위)\n",
    "- `cull_interval`\n",
    "  - idle 커널을 확인할 간격(초)\n",
    "- `cull_idle_timeout`\n",
    "  - 커널을 idle 상태로 판단할 기준(초)\n",
    "  - 이 시간동안 이벤트가 없으면 idle로 판단\n",
    " \n",
    "```bash\n",
    "voila ./01_Voila.ipynb --MappingKernelManager.cull_interval=60 --MappingKernelManager.cull_idle_timeout=300\n",
    "```"
   ]
  },
  {
   "cell_type": "markdown",
   "id": "71ed1dde",
   "metadata": {},
   "source": [
    "<br>\n",
    "\n",
    "### 1.6.3 timeout\n",
    "\n",
    "- voila 셀 타임아웃 제한\n",
    "- default: 30초\n",
    "- voila 실행 시 인자를 주어 타임아웃 제한 시간을 늘릴 수 있음\n",
    "\n",
    "```bash\n",
    "voila --ExecutePreprocessor.timeout=180\n",
    "```"
   ]
  },
  {
   "cell_type": "markdown",
   "id": "1cb7f7ec",
   "metadata": {},
   "source": [
    "<br>\n",
    "\n",
    "### 1.6.4 보안\n",
    "\n",
    "- 노트북 파일 암호 설정"
   ]
  },
  {
   "cell_type": "markdown",
   "id": "83f6f80e",
   "metadata": {},
   "source": [
    "<br>\n",
    "\n",
    "## 1.7 ipywidget\n",
    "\n",
    "- 인터랙티브한 효과를 줄 수 있음\n",
    "- `01_02_ipywidget-basic.ipynb` 참고"
   ]
  },
  {
   "cell_type": "code",
   "execution_count": null,
   "id": "8b094b68",
   "metadata": {},
   "outputs": [],
   "source": []
  }
 ],
 "metadata": {
  "kernelspec": {
   "display_name": "Python 3 (ipykernel)",
   "language": "python",
   "name": "python3"
  },
  "language_info": {
   "codemirror_mode": {
    "name": "ipython",
    "version": 3
   },
   "file_extension": ".py",
   "mimetype": "text/x-python",
   "name": "python",
   "nbconvert_exporter": "python",
   "pygments_lexer": "ipython3",
   "version": "3.8.12"
  }
 },
 "nbformat": 4,
 "nbformat_minor": 5
}
