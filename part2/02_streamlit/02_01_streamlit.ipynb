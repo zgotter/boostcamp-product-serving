{
 "cells": [
  {
   "cell_type": "markdown",
   "id": "4e529973",
   "metadata": {},
   "source": [
    "# 2. streamlit"
   ]
  },
  {
   "cell_type": "markdown",
   "id": "4f2904fe",
   "metadata": {},
   "source": [
    "## 2.1 Streamlit 소개\n",
    "\n",
    "- [https://streamlit.io/](https://streamlit.io/)\n",
    "- [https://docs.streamlit.io/](https://docs.streamlit.io/)"
   ]
  },
  {
   "cell_type": "markdown",
   "id": "33ba6bc5",
   "metadata": {},
   "source": [
    "<br>\n",
    "\n",
    "### 2.1.1 장점\n",
    "\n",
    "- 파이썬 스크립트 코드를 조금만 수정하면 웹을 띄울 수 있음\n",
    "- 백엔드 개발이나 HTTP 요청을 구현하지 않아도 됨\n",
    "- 다양한 Component 제공해 대시보드 UI 구성할 수 있음\n",
    "- Streamlit Cloud도 존재해서 쉽게 배포할 수 있음  (단, Community Plan은 Public Repo만 가능)\n",
    "- 화면 녹화 기능(Record) 존재"
   ]
  },
  {
   "cell_type": "markdown",
   "id": "ce5836ed",
   "metadata": {},
   "source": [
    "<br>\n",
    "\n",
    "## 2.2 설치\n",
    "\n",
    "```bash\n",
    "pip install streamlit\n",
    "```"
   ]
  },
  {
   "cell_type": "markdown",
   "id": "b66bae68",
   "metadata": {},
   "source": [
    "<br>\n",
    "\n",
    "## 2.3 실행 방법\n",
    "\n",
    "```bash\n",
    "streamlit run streamlit-basic.py\n",
    "```\n",
    "\n",
    "- `http://localhost:8501` 에 접근 가능"
   ]
  },
  {
   "cell_type": "markdown",
   "id": "f49d9e1f",
   "metadata": {},
   "source": [
    "<br>\n",
    "\n",
    "## 2.4 Streamlit Text 작성\n",
    "\n",
    "- `examples/streamlit-basic.py` 참고"
   ]
  },
  {
   "cell_type": "markdown",
   "id": "7f170981",
   "metadata": {},
   "source": [
    "<br>\n",
    "\n",
    "## 2.5 Streamlit Cheat Sheet\n",
    "\n",
    "- [https://share.streamlit.io/daniellewisdl/streamlit-cheat-sheet/app.py](https://share.streamlit.io/daniellewisdl/streamlit-cheat-sheet/app.py)"
   ]
  },
  {
   "cell_type": "markdown",
   "id": "b3268cfb",
   "metadata": {},
   "source": [
    "<br>\n",
    "\n",
    "## 2.6 Streamlit의 Data Flow\n",
    "\n",
    "- Streamlit의 화면에서 무언가 업데이트되면 **전체 Streamlit 코드가 다시 실행됨**\n",
    "- 업데이트\n",
    "  - code 수정\n",
    "  - 사용자가 streamlit의 위젯과 상호작용하는 경우 (버튼 클릭, 입력 상자에 텍스트 입력 시 등)"
   ]
  },
  {
   "cell_type": "markdown",
   "id": "92e6843a",
   "metadata": {},
   "source": [
    "<br>\n",
    "\n",
    "## 2.7 Session State\n",
    "\n",
    "- `st.session_state`를 이용하여 전역 변수 설정\n",
    "- [https://blog.streamlit.io/session-state-for-streamlit/](https://blog.streamlit.io/session-state-for-streamlit/)\n",
    "- session state를 사용한 예시\n",
    "  - [https://share.streamlit.io/streamlit/release-demos/0.84/0.84/streamlit_app.py](https://share.streamlit.io/streamlit/release-demos/0.84/0.84/streamlit_app.py)"
   ]
  },
  {
   "cell_type": "markdown",
   "id": "3089bff8",
   "metadata": {},
   "source": [
    "<br>\n",
    "\n",
    "## 2.8 Streamlit Cache - `@st.cache`\n",
    "\n",
    "- 매번 다시 실행하는 특성 때문에 데이터도 매번 다시 읽을 수 있음\n",
    "- 이런 경우 `@st.cache` 데코레이터를 사용해 캐싱하면 좋음\n",
    "  - 캐싱: 성능을 위해 메모리 등에 저장하는 행위"
   ]
  },
  {
   "cell_type": "code",
   "execution_count": null,
   "id": "6c0cba8a",
   "metadata": {},
   "outputs": [],
   "source": []
  }
 ],
 "metadata": {
  "kernelspec": {
   "display_name": "Python 3 (ipykernel)",
   "language": "python",
   "name": "python3"
  },
  "language_info": {
   "codemirror_mode": {
    "name": "ipython",
    "version": 3
   },
   "file_extension": ".py",
   "mimetype": "text/x-python",
   "name": "python",
   "nbconvert_exporter": "python",
   "pygments_lexer": "ipython3",
   "version": "3.8.12"
  }
 },
 "nbformat": 4,
 "nbformat_minor": 5
}
