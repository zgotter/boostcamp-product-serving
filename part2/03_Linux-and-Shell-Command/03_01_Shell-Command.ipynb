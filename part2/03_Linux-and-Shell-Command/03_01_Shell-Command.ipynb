{
 "cells": [
  {
   "cell_type": "markdown",
   "id": "2796860e",
   "metadata": {},
   "source": [
    "# 3. Shell Command"
   ]
  },
  {
   "cell_type": "markdown",
   "id": "e7329b98",
   "metadata": {},
   "source": [
    "## 3.1 기본 쉘 커맨드\n",
    "\n",
    "- `man`\n",
    "  - 설명 보기\n",
    "- `mkdir`\n",
    "- `ls`\n",
    "  - `-a`\n",
    "  - `-l`\n",
    "  - `-h`\n",
    "- `pwd`\n",
    "- `cd`\n",
    "- `echo`\n",
    "  - 터미널에 텍스트 출력\n",
    "  - `echo (backtick)쉘 커맨드(backtick)`\n",
    "    - 쉘 커맨드 실행 후 결과 출력\n",
    "- `vi`\n",
    "  - Command Mode\n",
    "    - `dd`: 한 줄 삭제\n",
    "    - `x`: 커서가 있는 글자 1개 삭제 (`5x`: 5개 삭제)\n",
    "    - `yy`: 현재 줄을 복사\n",
    "    - `p`: 현재 커서가 있는 줄 바로 아래에 붙여넣기\n",
    "  - Insert Mode\n",
    "  - Last Line Mode\n",
    "    - `esc`\n",
    "    - `/`: 문자 탐색, `n`을 누르면 계속 탐색\n",
    "    - `set nu`: 라인 번호 출력\n",
    "- `bash`\n",
    "- `sudo`\n",
    "- `cp`\n",
    "  - `-r`: 디렉토리 복사할 때 디렉토리 안에 파일이 있으면 재귀적으로 모두 복사\n",
    "  - `-f`: 복사할 때 강제로 실행\n",
    "- `mv`\n",
    "  - 파일 및 폴더 이동 or 이름 바꾸기\n",
    "- `cat`\n",
    "- `clear`\n",
    "- `history`\n",
    "  - 번호 확인 후 `!번호`를 하면 해당 명령어가 실행 된다.\n",
    "- `find`\n",
    "  - 파일 및 디렉토리 검색\n",
    "  - `find -name \"File\"`: 현재 폴더에서 File이란 이름을 가지는 파일 및 디렉토리 검색\n",
    "- `export`\n",
    "  - 환경변수 설정\n",
    "  - `export water=\"물\"`\n",
    "  - `echo $water`: water라는 환경 변수 출력\n",
    "- `alias`"
   ]
  },
  {
   "cell_type": "markdown",
   "id": "cf5472a5",
   "metadata": {},
   "source": [
    "\n",
    "- `head`, `tail`\n",
    "  - 파일의 앞/뒤 n행 출력\n",
    "  - `head -n 3 vi-test.sh`: `i-test.sh`의 앞의 3개 행 출력\n",
    "- `sort`\n",
    "  - `cat fruits.txt | sort`\n",
    "  - `cat fruits.txt | sort -r`\n",
    "- `uniq`\n",
    "  - 중복된 행이 연속으로 있는 경우 중복 제거\n",
    "  - `-c`: 중복 행의 개수 출력\n",
    "  - `wc -l`: 갯수 출력\n",
    "- `grep`\n",
    "  - 파일에 주어진 패턴 목록과 매칭되는 라인 검색\n",
    "  - `grep 옵션 패턴 파일명`\n",
    "  - 옵션\n",
    "    - `-i`: Insensitively, 대소문자 구분 없이 찾기\n",
    "    - `-w`: 정확히 그 단어만 찾기\n",
    "    - `-v`: 특정 패턴 제외한 결과 출력\n",
    "    - `-E`: 정규 표현식 사용\n",
    "  - 정규 표현식 패턴\n",
    "    - `^단어`: 단어로 시작하는 것 찾기\n",
    "    - `단어$`: 단어로 끝나는 것 찾기\n",
    "    - `.`: 하나의 문자 매칭\n",
    "- `cut`\n",
    "  - 파일에서 특정 필드 추출\n",
    "  - `-f`: 잘라낼 필드 지정\n",
    "  - `-d`: 필드를 구분하는 구분자, default=`\\t`"
   ]
  },
  {
   "cell_type": "markdown",
   "id": "1a07f5cd",
   "metadata": {},
   "source": [
    "<br>\n",
    "\n",
    "## 3.2 표준 스트림 (Stream)\n",
    "\n",
    "- stdin\n",
    "  - 0\n",
    "  - 입력 (비밀번호, 커맨드)\n",
    "- stdout\n",
    "  - 1\n",
    "  - 출력값 (터미널에 나오는 값)\n",
    "- stderr\n",
    "  - 2\n",
    "  - 디버깅 정보나 에러 출력"
   ]
  },
  {
   "cell_type": "markdown",
   "id": "87ddb893",
   "metadata": {},
   "source": [
    "<br>\n",
    "\n",
    "## 3.3 Redirection & Pipe (제일 중요!)"
   ]
  },
  {
   "cell_type": "markdown",
   "id": "cebcd01d",
   "metadata": {},
   "source": [
    "### 3.3.1 Redirection\n",
    "\n",
    "- 프로그램의 출력(stdout)을 다른 파일이나 스트림으로 전달\n",
    "- `>`\n",
    "  - 덮어쓰기(overwrite)\n",
    "  - 파일이 없으면 생성하고 저장\n",
    "- `>>`\n",
    "  - 맨 아래 추가하기 (append)"
   ]
  },
  {
   "cell_type": "markdown",
   "id": "af306ad6",
   "metadata": {},
   "source": [
    "<br>\n",
    "\n",
    "### 3.3.2 Pipe\n",
    "\n",
    "- 프로그램의 출력(stdout)을 다른 프로그램의 입력으로 사용하고 싶은 경우\n",
    "- A의 Output을 B의 Input으로 사용 (다양한 커맨드 조합)\n",
    "- ex) 현재 폴더에 있는 파일명 중 vi가 들어간 단어를 찾고 싶은 경우\n",
    "  - `ls | grep \"vi\"`\n",
    "    - `grep \"vi\"`: 특정 단어 찾기"
   ]
  },
  {
   "cell_type": "markdown",
   "id": "711f03ad",
   "metadata": {},
   "source": [
    "<br>\n",
    "\n",
    "### 3.3.3 Redirection과 Pipe 조합\n",
    "\n",
    "- `ls | grep \"vi\" > output.txt`\n",
    "  - 현재 디렉토리 중 vi가 포함된 리스트를 output.txt 파일로 저장\n",
    "- `history | grep \"echo\"`\n",
    "  - 이전에 실행한 명령어 중 echo가 포함된 기록 찾기"
   ]
  },
  {
   "cell_type": "markdown",
   "id": "29d9e595",
   "metadata": {},
   "source": [
    "<br>\n",
    "\n",
    "## 3.4 서버에서 자중 사용하는 쉘 커맨드\n",
    "\n",
    "- `ps`\n",
    "  - process status\n",
    "  - 현재 실행되고 있는 프로세스 출력\n",
    "  - `-e`: 모든 프로세스\n",
    "  - `-f`: Full Format으로 자세히 보여줌"
   ]
  },
  {
   "cell_type": "markdown",
   "id": "ca332e65",
   "metadata": {},
   "source": [
    "- `curl`\n",
    "  - Command Line 기반의 Data Transfer 커맨드\n",
    "  - **C**lient **URL**\n",
    "  - request를 테스트할 수 있는 명령어\n",
    "  - 웹 서버를 작성한 후 요청이 제대로 실행되는 지 확인할 수 있음\n",
    "  - `curl -X localhost:5000/{data}`\n",
    "  - `curl` 외에 `httpie` 등도 있음 (더 가독성있게 출력됨)"
   ]
  },
  {
   "cell_type": "markdown",
   "id": "7a38be24",
   "metadata": {},
   "source": [
    "- `df`\n",
    "  - 현재 사용 중인 디스크 용량 확인\n",
    "  - **D**isk **F**ree\n",
    "  - `-h`: 사람이 읽기 쉬운 형태로 출력"
   ]
  },
  {
   "cell_type": "markdown",
   "id": "eb2599b2",
   "metadata": {},
   "source": [
    "- `scp`\n",
    "  - SSH를 이용해 네트워크로 연결된 호스트 간 파일을 주고 받는 명령어\n",
    "  - Secure Copy (Remote file copy program)\n",
    "  - `-r`: 재귀적으로 복사\n",
    "  - `-P`: ssh 포트 지정\n",
    "  - `-i`: SSH 설정을 활용해 실행\n",
    "  - ex) local -> remote\n",
    "    - `scp local_path user@ip:remote_directory`\n",
    "  - ex) remote -> local\n",
    "    - `scp user@ip:remote_directory local_path`\n",
    "  - ex) remote -> remote\n",
    "    - `scp user@ip:remote_directory user2@ip2:target_remote_directory`"
   ]
  },
  {
   "cell_type": "markdown",
   "id": "b6e1ae77",
   "metadata": {},
   "source": [
    "- `nohup`\n",
    "  - 터미널 종료 후에도 계속 작업이 유지하도록 실행\n",
    "  - 백그라운드 실행\n",
    "  - `nobup python app.py &`\n",
    "  - `nohup`으로 실행될 파일은 permission이 755이어야 한다.\n",
    "  - 종료\n",
    "    - `ps -ef | grep app.py`\n",
    "    - pid(Process ID)를 찾은 후 `kill -9 pid`로 프로세스를 killl\n",
    "  - 로그는 `nohup.out`에 저장됨\n",
    "  - `nohup` 외에도 `screen`이란 도구도 있음"
   ]
  },
  {
   "cell_type": "markdown",
   "id": "0670f353",
   "metadata": {},
   "source": [
    "- `chmod`\n",
    "  - 파일의 권한을 변경하는 경우 사용\n",
    "  - Change Mode\n",
    "  - 유닉스에서 파일이나 디렉토리의 시스템 모드를 변경\n",
    "  - permission\n",
    "    - `r`: Read, 읽기, 4\n",
    "    - `w`: Write, 쓰기, 2\n",
    "    - `x`: eXecute, 실행하기, 1\n",
    "    - `-`: Denied\n",
    "    - ex) `r-x`: 읽거나 실행할 수는 있지만 수정은 불가능(5)\n",
    "  - user|group|others"
   ]
  },
  {
   "cell_type": "markdown",
   "id": "024b510e",
   "metadata": {},
   "source": [
    "<br>\n",
    "\n",
    "## 3.5 쉘 스크립트\n",
    "\n",
    "- 쉘 스크립트 = 쉘 커맨드의 조합\n",
    "- https://github.com/zzsza/shell-scripts\n",
    "- https://github.com/denysdovhan/bash-handbook\n",
    "- https://github.com/epety/100-shell-script-examples"
   ]
  },
  {
   "cell_type": "code",
   "execution_count": null,
   "id": "06ac42c6",
   "metadata": {},
   "outputs": [],
   "source": []
  }
 ],
 "metadata": {
  "kernelspec": {
   "display_name": "Python 3 (ipykernel)",
   "language": "python",
   "name": "python3"
  },
  "language_info": {
   "name": ""
  }
 },
 "nbformat": 4,
 "nbformat_minor": 5
}
