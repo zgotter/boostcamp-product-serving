{
 "cells": [
  {
   "cell_type": "markdown",
   "id": "8727b2be",
   "metadata": {},
   "source": [
    "# 4. Cloud"
   ]
  },
  {
   "cell_type": "markdown",
   "id": "465612db",
   "metadata": {},
   "source": [
    "## 4.1 Cloud 서비스를 사용하는 이유\n",
    "\n",
    "- 로컬은 컴퓨터 종료 시 서비스 중지 됨\n",
    "- 전통적으론 물리적인 서버를 구축 (IDC)\n",
    "  - 트래픽이 몰리면 이슈 발생\n",
    "  - 반대로 트래픽이 적어져도 서버 회수가 힘듬\n",
    "- 이를 자유롭게 활용하기 위해 클라우드 서비스가 발전\n",
    "- 개발자가 직접 해야 하는 설정 작업을 클라우드에서 쉽게 할 수 있음\n",
    "  - ex) Apache Spark를 쉽게 운영할 수 있도록 AWS EMR, GCP Dataproc 등을 활용\n",
    "    - 직접 하둡을 설치할 필요 없이 이미 설치되어 있음\n",
    "  - jupyter notebook 환경(tensorflow, cuda 등)도 미리 설치해두고 사용할 수 있음"
   ]
  },
  {
   "cell_type": "markdown",
   "id": "ad05249d",
   "metadata": {},
   "source": [
    "<br>\n",
    "\n",
    "## 4.2 다양한 Cloud Service\n",
    "\n",
    "- IAAS\n",
    "  - Infra\n",
    "  - control 많이 할 수 있음\n",
    "  - 서버를 직접 띄우고 다 하는 것\n",
    "  - ex) AWS Elastic Compute Cloud(EC2), Microsoft Azure\n",
    "- PAAS\n",
    "  - software\n",
    "  - control 조금 할 수 있음\n",
    "  - ex) Heroku, AWS Elastic Beanstalk, google app engine\n",
    "- SAAS\n",
    "  - service\n",
    "  - control 적게 할 수 있음\n",
    "  - 솔루션을 사용하는 것\n",
    "  - ex) gmail, office 365, google docs"
   ]
  },
  {
   "cell_type": "markdown",
   "id": "490804ef",
   "metadata": {},
   "source": [
    "<br>\n",
    "\n",
    "## 4.3 다양한 cloud 회사\n",
    "\n",
    "- AWS\n",
    "- Google Cloud\n",
    "- Azure\n",
    "- Naver Cloud Platform"
   ]
  },
  {
   "cell_type": "markdown",
   "id": "1efcd21b",
   "metadata": {},
   "source": [
    "<br>\n",
    "\n",
    "## 4.4 Cloud 서비스의 다양한 제품"
   ]
  },
  {
   "cell_type": "markdown",
   "id": "f034960e",
   "metadata": {},
   "source": [
    "### 4.4.1 Computing Service(Server)\n",
    "\n",
    "- 연산을 수행(computing) 서비스\n",
    "- 가상 컴퓨터, 서버, VM(Virtual Machine), 인스턴스\n",
    "- CPU, Memory, GPU 등을 선택할 수 있음\n",
    "- 인스턴스 생성 후, 인스턴스에 들어가서 사용 가능\n",
    "- 회사별로 월에 무료 사용량이 존재"
   ]
  },
  {
   "cell_type": "markdown",
   "id": "8579077a",
   "metadata": {},
   "source": [
    "<br>\n",
    "\n",
    "### 4.4.2 Serverless Computing\n",
    "\n",
    "- 서버 관리를 클라우드에서 진행\n",
    "- 코드를 클라우드에 제출하면, 그 코드를 가지고 서버를 실행해주는 형태\n",
    "- 요청 부하에 따라 자동으로 확장 (Auto Scaling)"
   ]
  },
  {
   "cell_type": "markdown",
   "id": "7777de25",
   "metadata": {},
   "source": [
    "<br>\n",
    "\n",
    "### 4.4.3 Stateless Container\n",
    "\n",
    "- Docker를 사용한 Container 기반으로 서버를 실행하는 구조\n",
    "- Docker Image를 업로드 하면 해당 이미지 기반으로 서버를 실행해주는 형태\n",
    "- 요청 부하에 따라 자동으로 확장 (Auto Scaling)"
   ]
  },
  {
   "cell_type": "markdown",
   "id": "172581c2",
   "metadata": {},
   "source": [
    "<br>\n",
    "\n",
    "### 4.4.4 Object Storage\n",
    "\n",
    "- 다양한 object를 저장할 수 있는 저장소\n",
    "- 다양한 형태의 데이터를 저장할 수 있으며, API를 사용해 데이터에 접근할 수 있음\n",
    "- 점점 데이터 저장 비용이 저렴해지고 있음\n",
    "- 머신러닝 모델 pkl 파일, csv 파일, 실험 log 등을 object storage에 저장할 수 있음"
   ]
  },
  {
   "cell_type": "markdown",
   "id": "195a4cd7",
   "metadata": {},
   "source": [
    "<br>\n",
    "\n",
    "### 4.4.5 Database(RDB)\n",
    "\n",
    "- database가 필요한 경우 클라우드에서 제공하는 database를 활용할 수 있음\n",
    "- 웹, 앱 서비스와 데이터베이스가 연결되어 있는 경우가 많음\n",
    "- ex) MySQL, PostgreSQL 등\n",
    "- 사용자 로그 데이터를 database에 저장할 수도 있고, object storage에 저장할 수도 있음\n",
    "  - 저장된 데이터를 어떻게 사용하냐에 따라 어디에 저장할 지를 결정"
   ]
  },
  {
   "cell_type": "markdown",
   "id": "8886c35d",
   "metadata": {},
   "source": [
    "<br>\n",
    "\n",
    "### 4.4.6 Data Warehouse\n",
    "\n",
    "- Database에 저장된 데이터는 데이터 분석을 메인으로 하는 저장소가 아닌 서비스에서 활용할 Database\n",
    "- Database에 있는 데이터, Object Storage 에 있는 데이터 등을 모두 모아서 Data Warehouse에 저장\n",
    "- 데이터 분석에 특화된 Database"
   ]
  },
  {
   "cell_type": "markdown",
   "id": "7b21d70f",
   "metadata": {},
   "source": [
    "<br>\n",
    "\n",
    "### 4.4.7 AI Platform\n",
    "\n",
    "- AI Research, AI Develop 과정을 더 편리하게 해주는 제품\n",
    "- MLOps 관련 서비스 제공\n",
    "- Google Cloud Platform : TPU"
   ]
  },
  {
   "cell_type": "markdown",
   "id": "230afdea",
   "metadata": {},
   "source": [
    "<br>\n",
    "\n",
    "## 4.5 다양한 Cloud 회사별 제품\n",
    "\n",
    "- 클라우드마다 제품의 이름은 다르지만, 비슷한 제품들이 있음\n",
    "- 하나의 제품 이름을 알면 다른 클라우드에서 검색할 수 있음\n",
    "- ex) Compute Engine Like AWS -> Elastic Compute(EC2)\n",
    "\n",
    "&nbsp;&nbsp;&nbsp;&nbsp;&nbsp;\n",
    "<img src='https://drive.google.com/uc?id=1ydIoOeGTes4vaqwU2fRdPByz_1-ca8vy' width=600/>"
   ]
  },
  {
   "cell_type": "markdown",
   "id": "fabf17ca",
   "metadata": {},
   "source": [
    "<br>\n",
    "\n",
    "## 4.6 Google Cloud Platform (GCP)"
   ]
  },
  {
   "cell_type": "code",
   "execution_count": null,
   "id": "f2cf12a4",
   "metadata": {},
   "outputs": [],
   "source": []
  }
 ],
 "metadata": {
  "kernelspec": {
   "display_name": "Python 3 (ipykernel)",
   "language": "python",
   "name": "python3"
  },
  "language_info": {
   "name": ""
  },
  "toc-autonumbering": false,
  "toc-showcode": false,
  "toc-showmarkdowntxt": false
 },
 "nbformat": 4,
 "nbformat_minor": 5
}
