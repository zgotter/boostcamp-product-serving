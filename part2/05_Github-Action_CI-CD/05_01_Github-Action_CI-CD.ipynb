{
 "cells": [
  {
   "cell_type": "markdown",
   "id": "c07345ec",
   "metadata": {},
   "source": [
    "# 5. Github Action을 활용한 CI/CD"
   ]
  },
  {
   "cell_type": "markdown",
   "id": "055706f7",
   "metadata": {},
   "source": [
    "## 5.1 CI/CD"
   ]
  },
  {
   "cell_type": "markdown",
   "id": "600053fc",
   "metadata": {},
   "source": [
    "### 5.1.1 개발 프로세스 - 개발 환경\n",
    "\n",
    "- local\n",
    "- dev(test)\n",
    "- staging\n",
    "  - 배포 전 운영하거나 보안, 성능 측정하는 환경\n",
    "- production\n",
    "  - 실제 서비스를 운영하는 환경"
   ]
  },
  {
   "cell_type": "markdown",
   "id": "10e5595f",
   "metadata": {},
   "source": [
    "<br>\n",
    "\n",
    "### 5.1.2 개발 환경을 나누는 이유\n",
    "\n",
    "- 에러가 나면 안됨"
   ]
  },
  {
   "cell_type": "markdown",
   "id": "34390573",
   "metadata": {},
   "source": [
    "<br>\n",
    "\n",
    "### 5.1.3 Git Flow\n",
    "\n",
    "- `main` branch\n",
    "- `staging` branch\n",
    "- `dev` branch\n",
    "- `feature/기능 이름` branch"
   ]
  },
  {
   "cell_type": "markdown",
   "id": "bdd907df",
   "metadata": {},
   "source": [
    "<br>\n",
    "\n",
    "### 5.1.4 CI/CD의 필요성\n",
    "\n",
    "- 서버에 코드를 보내는 것과 반복적으로 진행할 test를 어떻게 실행할까?\n",
    "  - dev brach에서 merge 되면 -> local에서 git pull & test 실행 후 괜찮으면 코드 배포 (FTP로 파일 전송)\n",
    "  - 번거롭다..."
   ]
  },
  {
   "cell_type": "markdown",
   "id": "b602089a",
   "metadata": {},
   "source": [
    "<br>\n",
    "\n",
    "### 5.1.5 Continuous Integration (CI)\n",
    "\n",
    "- 지속적 통합\n",
    "- 새롭게 작성한 코드 변경 사항이 Build, Test 진행한 후 Test Case에 통과했는지 확인\n",
    "- 지속적으로 코드 품질 관리\n",
    "- 10명의 개발자가 코드를 수정했다면 모두 CI 프로세스 진행\n",
    "- <mark>빌드, 테스트 자동화</mark>"
   ]
  },
  {
   "cell_type": "markdown",
   "id": "5bc622b8",
   "metadata": {},
   "source": [
    "<br>\n",
    "\n",
    "### 5.1.6 Continuous Deploy/Delivery (CD)\n",
    "\n",
    "- 지속적 배포\n",
    "- 작성한 코드가 항상 신뢰 가능한 상태가 되면 자동으로 배포될 수 있도록 하는 과정\n",
    "- CI 이후 CD를 진행\n",
    "- dev / staging / main 브랜치에 Merge가 될 경우 코드가 자동으로 서버에 배포\n",
    "- <mark>배포 자동화</mark>"
   ]
  },
  {
   "cell_type": "markdown",
   "id": "0fbecc53",
   "metadata": {},
   "source": [
    "<br>\n",
    "\n",
    "### 5.1.7 CI/CD를 활용할 수 있는 도구들\n",
    "\n",
    "- Jenkins\n",
    "- circleci\n",
    "- Travis CI\n",
    "- AWS CodeDeploy\n",
    "- GCP Cloud Build\n",
    "- Github Action"
   ]
  },
  {
   "cell_type": "markdown",
   "id": "35d5cfcd",
   "metadata": {},
   "source": [
    "<br>\n",
    "\n",
    "## 5.2 Github Action\n",
    "\n",
    "- Github에서 출시한 기능\n",
    "- 소프트웨어 workflow 자동화를 도와주는 도구"
   ]
  },
  {
   "cell_type": "markdown",
   "id": "7df01445",
   "metadata": {},
   "source": [
    "<br>\n",
    "\n",
    "### 5.2.1 workflow 예시\n",
    "\n",
    "- test code\n",
    "  - unit test\n",
    "  - end to end test"
   ]
  },
  {
   "cell_type": "markdown",
   "id": "67a17216",
   "metadata": {},
   "source": [
    "- 배포 (deploy)\n",
    "  - Prod, Staging, Dev 서버에 코드 배포\n",
    "  - FTP로 파일 전송할 수도 있고, Docker Image를 Push하는 방법 등\n",
    "  - Node.js 등 다양한 언어 배포도 지원"
   ]
  },
  {
   "cell_type": "markdown",
   "id": "c98bc587",
   "metadata": {},
   "source": [
    "- 파이썬, 쉘 스크립트 실행\n",
    "  - Github Repo에 저장된 스크립트를 일정 주기를 가지고 실행\n",
    "  - crontab의 대용\n",
    "  - 데이터 수집을 주기적으로 해야할 경우 활용할 수도 있음\n",
    "  - https://github.com/actions/setup-python"
   ]
  },
  {
   "cell_type": "markdown",
   "id": "a0ccada3",
   "metadata": {},
   "source": [
    "- Github Tag, Release 자동으로 설정\n",
    "  - Main 브랜치에 Merge 될 경우에 특정 작업 실행\n",
    "  - 기존 버전에서 버전 Up하기\n",
    "  - 새로운 브랜치 생성시 특정 작업 실행도 가능"
   ]
  },
  {
   "cell_type": "markdown",
   "id": "f4defffa",
   "metadata": {},
   "source": [
    "- 그 외에도 다양한 Workflow를 만들 수 있음\n",
    "- 사용자가 만들어서 Workflow 템플릿을 공유하기도 함\n",
    "- 원하는 기능이 있는 경우 `<기능> github action` 등으로 검색!\n",
    "- Action Marketplace\n",
    "  - https://github.com/marketplace?type=actions\n",
    "- Awesome Github Action\n",
    "  - https://github.com/sdras/awesome-actions"
   ]
  },
  {
   "cell_type": "markdown",
   "id": "233673c3",
   "metadata": {},
   "source": [
    "<br>\n",
    "\n",
    "### 5.2.2 Pricing\n",
    "\n",
    "- public repo\n",
    "  - 무료\n",
    "- private repo\n",
    "  - 요건 표가 있음"
   ]
  },
  {
   "cell_type": "markdown",
   "id": "0ad48155",
   "metadata": {},
   "source": [
    "<br>\n",
    "\n",
    "### 5.2.3 제약 조건\n",
    "\n",
    "- 하나의 Github Repository 당 Workflow는 최대 20개까지 등록할 수 있음\n",
    "- Workflow에 존재하는 Job(실행)은 최대 6시간 실행할 수 있으며, 초과시 자동으로 중지됨\n",
    "- 동시에 실행할 수 있는 Job 제한 존재"
   ]
  },
  {
   "cell_type": "markdown",
   "id": "8140e598",
   "metadata": {},
   "source": [
    "<br>\n",
    "\n",
    "### 5.2.4 사용 방식\n",
    "\n",
    "1. 코드 작업\n",
    "2. 코드 작업 후, Github Action으로 무엇을 할 것인지 생각\n",
    "3. 사용할 Workflow 정의\n",
    "4. Workflow 정의 후 정상 작동하는지 확인"
   ]
  },
  {
   "cell_type": "markdown",
   "id": "5980f691",
   "metadata": {},
   "source": [
    "<br>\n",
    "\n",
    "### 5.2.5 핵심 개념\n",
    "\n",
    "- Workflow\n",
    "- Event\n",
    "- Job\n",
    "- Step\n",
    "- Action\n",
    "- Runner"
   ]
  },
  {
   "cell_type": "markdown",
   "id": "c8dc6fa2",
   "metadata": {},
   "source": [
    "<br>\n",
    "\n",
    "#### 5.2.5.1 Workflow\n",
    "\n",
    "- 여러 Job으로 구성되고 Event로 Trigger(실행)되는 자동화된 Process\n",
    "- 최상위 개념\n",
    "- Workflow 파일은 YAML으로 작성되고, Github Repository의 `.github/workflows` 폴더에 저장"
   ]
  },
  {
   "cell_type": "markdown",
   "id": "bd88409b",
   "metadata": {},
   "source": [
    "<br>\n",
    "\n",
    "#### 5.2.5.2 Event\n",
    "\n",
    "- Workflow를 Trigger하는 특정 활동, 규칙\n",
    "- 특정 Branch로 Push하는 경우\n",
    "- 특정 Branch로 Pull Request하는 경우\n",
    "- 특정 시간대에 반복(Cron)\n",
    "- workflow yaml 파일에 `on` 부분에 작성"
   ]
  },
  {
   "cell_type": "markdown",
   "id": "3080e6cf",
   "metadata": {},
   "source": [
    "<br>\n",
    "\n",
    "#### 5.2.5.3 Jobs\n",
    "\n",
    "- Runner에서 실행되는 Steps의 조합\n",
    "- 여러 Job이 있는 경우 병렬로 실행하며, 순차적으로 실행할 수도 있음\n",
    "  - 다른 Job에 의존 관계를 가질 수 있음(A Job Success 후 B Job 실행)"
   ]
  },
  {
   "cell_type": "markdown",
   "id": "545b544e",
   "metadata": {},
   "source": [
    "<br>\n",
    "\n",
    "#### 5.2.5.4 Steps\n",
    "\n",
    "- Step은 Job에서 실행되는 개별 작업\n",
    "- Action을 실행하거나 쉘 커맨드 실행\n",
    "- 하나의 Job에선 데이터를 공유할 수 있음"
   ]
  },
  {
   "cell_type": "markdown",
   "id": "5f434d9a",
   "metadata": {},
   "source": [
    "<br>\n",
    "\n",
    "#### 5.2.5.5 Actions\n",
    "\n",
    "- Workflow의 제일 작은 단위\n",
    "- Job을 생성하기 위해 여러 Step을 묶은 개념\n",
    "- 재사용이 가능한 Component\n",
    "- 개인적으로 Action을 만들 수도 있고, Marketplace의 Action을 사용할 수도 있음"
   ]
  },
  {
   "cell_type": "markdown",
   "id": "514a5366",
   "metadata": {},
   "source": [
    "<br>\n",
    "\n",
    "#### 5.2.5.6 Runner\n",
    "\n",
    "- Github Action도 일종의 서버에서 실행되는 개념\n",
    "- Workflow가 실행될 서버\n",
    "- Github-hosted Runner\n",
    "  - Github Action의 서버를 사용하는 방법\n",
    "  - 성능\n",
    "    - vCPU 2, Memory 7GB, Storage 14GB\n",
    "- Self-hosted Runner\n",
    "  - 직접 서버를 호스팅해서 사용하는 방법"
   ]
  },
  {
   "cell_type": "markdown",
   "id": "e9be7c6f",
   "metadata": {},
   "source": [
    "<br>\n",
    "\n",
    "### 5.2.6 실습\n",
    "\n",
    "- https://github.com/zgotter/github-action"
   ]
  },
  {
   "cell_type": "markdown",
   "id": "8de68bf7",
   "metadata": {},
   "source": [
    "<br>\n",
    "\n",
    "## 5.3 Mask Classification Streamlit 배포하기"
   ]
  },
  {
   "cell_type": "markdown",
   "id": "a5fb19b7",
   "metadata": {},
   "source": [
    "### 5.3.1 진행 순서\n",
    "\n",
    "- Compute Engine 실행\n",
    "- SSH 키 생성 및 Github Secrets 설정\n",
    "- 터미널에서 최초로 서비스 실행\n",
    "- Github Action을 통한 배포 자동화"
   ]
  },
  {
   "cell_type": "code",
   "execution_count": null,
   "id": "4f9e1146",
   "metadata": {},
   "outputs": [],
   "source": []
  }
 ],
 "metadata": {
  "kernelspec": {
   "display_name": "Python 3 (ipykernel)",
   "language": "python",
   "name": "python3"
  },
  "language_info": {
   "name": ""
  }
 },
 "nbformat": 4,
 "nbformat_minor": 5
}
