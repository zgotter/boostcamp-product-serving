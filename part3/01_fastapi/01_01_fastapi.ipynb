{
 "cells": [
  {
   "cell_type": "markdown",
   "id": "7a374634",
   "metadata": {},
   "source": [
    "# 1. FastAPI"
   ]
  },
  {
   "cell_type": "markdown",
   "id": "a77f1a2b",
   "metadata": {},
   "source": [
    "## 강의 소개\n",
    "\n",
    "Part3에 오신 것을 환영합니다, 여러분!  \n",
    "\n",
    "이전 Part에서는 머신 러닝 모델을 배포하는 프로세스와, 리눅스,클라우드 등을 배웠고, 이번 Part부터는 백엔드 프로그래밍을 다룰 수 있는 Fast API와, Docker, Logging, MLflow등을 학습하게 됩니다.  \n",
    "\n",
    "이번 강의에서는 백엔드 프로그래밍에 사용되는 Fast API에 대해 다룰 예정입니다."
   ]
  },
  {
   "cell_type": "markdown",
   "id": "bd1d0039",
   "metadata": {},
   "source": [
    "<br>\n",
    "\n",
    "## 1.1 벡엔드 프로그래밍"
   ]
  },
  {
   "cell_type": "markdown",
   "id": "b7a3cc79",
   "metadata": {},
   "source": [
    "### 1.1.1 Server 구성 Use Case"
   ]
  },
  {
   "cell_type": "markdown",
   "id": "c381d508",
   "metadata": {},
   "source": [
    "<br>\n",
    "\n",
    "### 1.1.2 Server의 형태\n",
    "\n",
    "- 모놀리식 아키텍처 (Monolithic Architecture)\n",
    "  - 모두 하나에서 처리하는 경우\n",
    "- 마이크로서비스 아키텍처 (MSA, Mircroservice Architecture)\n",
    "  - 개별 서버로 구성"
   ]
  },
  {
   "cell_type": "markdown",
   "id": "7412927b",
   "metadata": {},
   "source": [
    "<br>\n",
    "\n",
    "### 1.1.3 REST API\n",
    "\n",
    "- 정보를 주고 받을 때 널리 사용되는 형식\n",
    "- REST란 형식의 API\n",
    "  - 각 요청이 어떤 동작이나 정보를 위한 것을 요청 모습 자체로 추론할 수 있음\n",
    "  - 기본적인 데이터 처리 : 조회 작업, 새로 추가, 수정, 삭제\n",
    "    - CRUD : Create, Read, Update, Delete"
   ]
  },
  {
   "cell_type": "markdown",
   "id": "7127bd15",
   "metadata": {},
   "source": [
    "- REST: Representational State Transfer의 약자\n",
    "  - Resource, Method, Representation of Resource로 구성\n",
    "- 클라이언트\n",
    "  - 요청을 하는 플랫폼\n",
    "  - 브라우저 같은 웹일 수 있고, 앱일수도 있음\n",
    "  - 우리가 Python을 사용해 요청하는 것도 클라이언트\n",
    "- Resource\n",
    "  - Unique한 ID를 가지는 리소스, URI\n",
    "- Method\n",
    "  - 서버에 요청을 보내기 위한 방식\n",
    "  - GET, POST, PUT, PATCH, DELETE"
   ]
  },
  {
   "cell_type": "markdown",
   "id": "f99c408f",
   "metadata": {},
   "source": [
    "<br>\n",
    "\n",
    "### 1.1.4 URI, URL\n",
    "\n",
    "- URL (Uniform Resource Locator)\n",
    "  - 인터넷 상 자원의 위치\n",
    "- URI (Uniform Resource Indentifier)\n",
    "  - 인터넷 상의 자원을 식별하기 위한 문자열의 구성\n",
    "  - URI는 URL을 포함 (URI가 더 포괄적인 개념)"
   ]
  },
  {
   "cell_type": "markdown",
   "id": "a63b8575",
   "metadata": {},
   "source": [
    "<br>\n",
    "\n",
    "### 1.1.5 HTTP Method의 종류\n",
    "\n",
    "- GET : 정보를 요청하기 위해 사용(Read)\n",
    "- POST : 정보를 입력하기 위해 사용(Create)\n",
    "- PUT : 정보를 업데이트하기 위해 사용(Update)\n",
    "- PATCH : 정보를 업데이트하기 위해 사용(Update)\n",
    "- DELETE : 정보를 삭제하기 위해 사용(Delete)"
   ]
  },
  {
   "cell_type": "markdown",
   "id": "6d7d05d7",
   "metadata": {},
   "source": [
    "- GET과 POST의 차이\n",
    "\n",
    "&nbsp;&nbsp;&nbsp;&nbsp;&nbsp;\n",
    "<img src='https://drive.google.com/uc?id=1yixWoz1eoAyIVub2ui9O3DPNY87kPrkV' width=600/>"
   ]
  },
  {
   "cell_type": "markdown",
   "id": "612aaf7d",
   "metadata": {},
   "source": [
    "<br>\n",
    "\n",
    "### 1.1.6 Header와 Body"
   ]
  },
  {
   "cell_type": "markdown",
   "id": "fad8be46",
   "metadata": {},
   "source": [
    "<br>\n",
    "\n",
    "### 1.1.7 Status Code\n",
    "\n",
    "- 클라이언트 요청에 따라 서버가 어떻게 반응하는 지를 알려주는 code"
   ]
  },
  {
   "cell_type": "markdown",
   "id": "e9eb5363",
   "metadata": {},
   "source": [
    "<br>\n",
    "\n",
    "### 1.1.8 동기(sync)와 비동기(async)"
   ]
  },
  {
   "cell_type": "markdown",
   "id": "a4f0439b",
   "metadata": {},
   "source": [
    "<br>\n",
    "\n",
    "### 1.1.9 IP\n",
    "\n",
    "- Internet Protocol\n",
    "- 네트워크에 연결된 특정 PC의 주소를 나타내는 체계\n",
    "- IPv4\n",
    "  - 4덩이의 숫자로 구성된 IP 주소 체계\n",
    "- 0.0.0.0, 255.255.255.255\n",
    "  - broadcast address\n",
    "  - 로컬 네트워크에 접속된 모든 장치와 소통하는 주소"
   ]
  },
  {
   "cell_type": "markdown",
   "id": "85ba0205",
   "metadata": {},
   "source": [
    "<br>\n",
    "\n",
    "### 1.1.10 Port\n",
    "\n",
    "- PC에 접속할 수 있는 통로(채널)\n",
    "- 22: SSH\n",
    "- 80: HTTP\n",
    "- 443: HTTPS"
   ]
  },
  {
   "cell_type": "markdown",
   "id": "8815de0e",
   "metadata": {},
   "source": [
    "<br>\n",
    "\n",
    "## 1.2 Fast API"
   ]
  },
  {
   "cell_type": "markdown",
   "id": "6b4096bd",
   "metadata": {},
   "source": [
    "### 1.2.1 FastAPI 소개\n",
    "\n",
    "- 최근에 떠오르는 Python Web Framework"
   ]
  },
  {
   "cell_type": "markdown",
   "id": "beaed9d4",
   "metadata": {},
   "source": [
    "<br>\n",
    "\n",
    "### 1.2.2 FastAPI 특징\n",
    "\n",
    "- High Performance\n",
    "- Easy\n",
    "  - Flask와 비슷한 구조\n",
    "- Productivity\n",
    "  - Swagger 자동 생성\n",
    "  - Pydantic을 이용한 Serialization"
   ]
  },
  {
   "cell_type": "markdown",
   "id": "9c0e8740",
   "metadata": {},
   "source": [
    "<br>\n",
    "\n",
    "### 1.2.3 FastAPI vs Flask\n",
    "\n",
    "장점\n",
    "\n",
    "- Flask보다 Router 문법이 간결하다.\n",
    "- 비동기 지원\n",
    "- Built-in API Documentation (Swagger)\n",
    "- Pydantic을 이용한 Serialization 및 Validation"
   ]
  },
  {
   "cell_type": "markdown",
   "id": "78caf46a",
   "metadata": {},
   "source": [
    "아쉬운 점\n",
    "\n",
    "- 아직까진 Flask의 유저가 더 많음\n",
    "- ORM 등 Database와 관련된 라이브러리가 적음"
   ]
  },
  {
   "cell_type": "markdown",
   "id": "51ca148e",
   "metadata": {},
   "source": [
    "<br>\n",
    "\n",
    "### 1.2.4 프로젝트 구조\n",
    "\n",
    "&nbsp;&nbsp;&nbsp;&nbsp;&nbsp;\n",
    "<img src='https://drive.google.com/uc?id=1yj_oOWe3XALeTGV6CmJVvL8js-naJUMd' width=300/>\n",
    "\n",
    "- `app`\n",
    "  - 프로젝트의 코드가 들어갈 모듈 설정\n",
    "  - 다른 이름으로 지정할 수도 있음 (ex. 프로젝트 이름, src 등)\n",
    "- `__main__.py`\n",
    "  - 간단하게 애플리케이션을 실행할 수 있는 EntryPoint 역할\n",
    "  - cf) EntryPoint: 프로그래밍 언어에서 최상위 코드가 실행되는 시작점 또는 프로그램 진입점\n",
    "- `main.py`, `app.py`\n",
    "  - FastAPI의 애플리케이션과 Router 설정\n",
    "- `model.py`\n",
    "  - ML Model에 대한 클래스와 함수 정의"
   ]
  },
  {
   "cell_type": "markdown",
   "id": "8acacf86",
   "metadata": {},
   "source": [
    "- 하나의 파일에는 하나의 목적성에 맞는 함수들만 저장하는 것이 좋다.\n",
    "  - `utils.py`에 몰아 넣는 것은 좋지 않다..."
   ]
  },
  {
   "cell_type": "markdown",
   "id": "ef1e5487",
   "metadata": {},
   "source": [
    "<br>\n",
    "\n",
    "### 1.2.5 Poetry\n",
    "\n",
    "- Dependency Resolver로 복잡한 의존성들의 버전 충돌을 방지\n",
    "- Virtualenv를 생성해서 격리된 환경에서 빠르게 개발이 가능해짐\n",
    "- 기존 파이썬 패키지 관리 도구에서 지원하지 않는 Build, Publish가 가능\n",
    "- `pyproject.toml`을 기준으로 여러 툴들의 config를 명시적으로 관리\n",
    "- 새로 만든 프로젝트라면 poetry를 사용해보고, virtualenv 등과 비교하는 것을 추천"
   ]
  },
  {
   "cell_type": "markdown",
   "id": "03803384",
   "metadata": {},
   "source": [
    "<br>\n",
    "\n",
    "#### 1.2.5.1 설치\n",
    "\n",
    "- [공식 홈페이지 링크](https://python-poetry.org/docs/)\n",
    "- Requirements\n",
    "  - Python 2.7 or 3.5+\n",
    "- MAC OSX / Linux:\n",
    "  - `curl -sSL https://raw.githubusercontent.com/python-poetry/poetry/master/get-poetry.py | python -`\n",
    "- Windows(Powershell)\n",
    "  - `(Invoke-WebRequest -Uri https://raw.githubusercontent.com/python-poetry/poetry/master/get-poetry.py -UseBasicParsing).Content | python -`"
   ]
  },
  {
   "cell_type": "markdown",
   "id": "e514cc39",
   "metadata": {},
   "source": [
    "<br>\n",
    "\n",
    "#### 1.2.5.2 Poetry 프로젝트 생성\n",
    "\n",
    "- Poetry 사용 흐름\n",
    "  - 프로젝트 init\n",
    "  - Poetry Shell 활성화\n",
    "  - Poetry Install\n",
    "  - Poetry Add"
   ]
  },
  {
   "cell_type": "markdown",
   "id": "3e578330",
   "metadata": {},
   "source": [
    "<br>\n",
    "\n",
    "### 1.2.6 Swagger\n",
    "\n",
    "- Swagger가 유용한 이유\n",
    "  - 여러 사람들에게 Request 방법을 Swagger를 통해 전달할 수 있다.\n",
    "  - REST API 설계 및 문서화할 때 사용\n",
    "    - 다른 개발팀과 협업하는 경우\n",
    "    - 구축된 프로젝트를 유지보수하는 경우"
   ]
  },
  {
   "cell_type": "markdown",
   "id": "eb723465",
   "metadata": {},
   "source": [
    "<br>\n",
    "\n",
    "## 1.3 FastAPI 기본 지식"
   ]
  },
  {
   "cell_type": "markdown",
   "id": "f5ec5bca",
   "metadata": {},
   "source": [
    "### 1.3.1 Path Parameter\n",
    "\n",
    "- `/users/402`\n",
    "- 서버에 402라는 값을 전달하고 변수로 사용"
   ]
  },
  {
   "cell_type": "markdown",
   "id": "989c3164",
   "metadata": {},
   "source": [
    "- 어떤 resource를 식별하고 싶은 경우 (하지만 kyle이라는 유저는 없음)\n",
    "  - `/users/kyle`\n",
    "  - 저 경로에 존재하는 내용이 없으므로 404 Error 발생"
   ]
  },
  {
   "cell_type": "markdown",
   "id": "ec087c0a",
   "metadata": {},
   "source": [
    "- Resource를 식별해야 하는 경우 -> Path Parameter가 더 적합"
   ]
  },
  {
   "cell_type": "markdown",
   "id": "663488d6",
   "metadata": {},
   "source": [
    "<br>\n",
    "\n",
    "### 1.3.2 Query Parameter\n",
    "\n",
    "- `/users?id=402`\n",
    "- query string\n",
    "- API 뒤에 입력 데이터를 함께 제공하는 방식으로 사용\n",
    "- Query String은 Key, Value의 쌍으로 이루어지며 `&`로 연결해 여러 데이터를 넘길 수 있음"
   ]
  },
  {
   "cell_type": "markdown",
   "id": "e635c2e0",
   "metadata": {},
   "source": [
    "- 어떤 resource를 식별하고 싶은 경우 (하지만 kyle이라는 유저는 없음)\n",
    "  - `/users/name=kyle`\n",
    "  - 데이터가 없는 경우 빈 리스트가 나옴 -> 추가로 Error Handling 필요"
   ]
  },
  {
   "cell_type": "markdown",
   "id": "12bc0fa4",
   "metadata": {},
   "source": [
    "- 정렬, 필터링을 해야 하는 경우 -> Query Parameter가 더 적합"
   ]
  },
  {
   "cell_type": "markdown",
   "id": "ee9d6a00",
   "metadata": {},
   "source": [
    "<br>\n",
    "\n",
    "### 1.3.3 Optional Parameter\n",
    "\n",
    "- 특정 파라미터는 선택적으로 하고 싶은 경우"
   ]
  },
  {
   "cell_type": "markdown",
   "id": "41f2b786",
   "metadata": {},
   "source": [
    "<br>\n",
    "\n",
    "### 1.3.4 Request Body\n",
    "\n",
    "- 클라이언트에서 API에 데이터를 보낼 때, Request Body를 사용함\n",
    "- 클라이언트 => API : Request Body\n",
    "- API의 Response => 클라이언트 : Response Body"
   ]
  },
  {
   "cell_type": "markdown",
   "id": "ec0c37d7",
   "metadata": {},
   "source": [
    "- Request Body에 데이터가 항상 포함되어야 하는 것은 아님\n",
    "- **Request Body에 데이터를 보내고 싶다면 POST Method를 사용**\n",
    "  - (참고) GET Method는 URL, Request Header로 데이터 전달"
   ]
  },
  {
   "cell_type": "markdown",
   "id": "7ae8d569",
   "metadata": {},
   "source": [
    "- POST Method는 Request Body에 데이터를 넣어 보냄\n",
    "- Body의 데이터를 설명하는 Content-Type이란 Header 필드가 존재하고, 어떤 데이터 타입인지 명시해야 함"
   ]
  },
  {
   "cell_type": "markdown",
   "id": "5e3f4caf",
   "metadata": {},
   "source": [
    "- 대표적인 컨텐츠 타입\n",
    "  - `application/x-www-form-urlencoded`\n",
    "    - BODY에 Key, Value 사용\n",
    "    - `&` 구분자 사용\n",
    "  - `text/plain`\n",
    "    - 단순 txt 파일\n",
    "  - `multipartform-data`\n",
    "    - 데이터를 바이너리 데이터로 전송"
   ]
  },
  {
   "cell_type": "markdown",
   "id": "d71c5d7b",
   "metadata": {},
   "source": [
    "<br>\n",
    "\n",
    "### 1.3.5 Response Body\n",
    "\n",
    "- API의 Response => 클라이언트 : Response Body\n",
    "- Decorator의 response_model 인자로 주입 가능"
   ]
  },
  {
   "cell_type": "markdown",
   "id": "f89bdf4c",
   "metadata": {},
   "source": [
    "- 역할\n",
    "  - Output Data를 해당 정의에 맞게 변형\n",
    "  - 데이터 Validation\n",
    "  - Response에 대한 Json Schema 추가\n",
    "  - 자동으로 문서화"
   ]
  },
  {
   "cell_type": "markdown",
   "id": "1d392347",
   "metadata": {},
   "source": [
    "<br>\n",
    "\n",
    "### 1.3.6 Form\n",
    "\n",
    "- Form(입력) 형태로 데이터를 받고 싶은 경우\n",
    "- Form을 사용하려면 `python-multipart`를 설치해야 함\n",
    "\n",
    "```bash\n",
    "pip install python-multipart\n",
    "```\n",
    "\n",
    "- 프론트도 간단히 만들기 위해 `Jinja2` 설치\n",
    "\n",
    "```bash\n",
    "pip install Jinja2\n",
    "```"
   ]
  },
  {
   "cell_type": "markdown",
   "id": "c042eb4b",
   "metadata": {},
   "source": [
    "- Form 클래스를 사용하면 Request의 Form Data에서 값을 가져옴\n",
    "- `From(...)`\n",
    "  - Python ellipsis\n",
    "  - Required(필수 요소)를 의미\n",
    "- FastAPI 웹 서버를 실행한 후 Swagger로 이동하면 Required를 볼 수 있음"
   ]
  },
  {
   "cell_type": "markdown",
   "id": "fbacd80e",
   "metadata": {},
   "source": [
    "<br>\n",
    "\n",
    "### 1.3.7 File\n",
    "\n",
    "- File 업로드하고 싶은 경우\n",
    "- File을 사용할 때도 `python-multipart`를 설치해야 함"
   ]
  },
  {
   "cell_type": "markdown",
   "id": "566a277c",
   "metadata": {},
   "source": [
    "<br>\n",
    "\n",
    "## 1.4 Pydantic"
   ]
  },
  {
   "cell_type": "markdown",
   "id": "ea03c2be",
   "metadata": {},
   "source": [
    "### 1.4.1 Pydantic\n",
    "\n",
    "- FastAPI에서 Class 사용할 때 보이던 Pydantic\n",
    "- Data Validation / Settings Management 라이브러리\n",
    "- Type Hint를 런타임에서 강제해 안전하게 데이터 핸들링"
   ]
  },
  {
   "cell_type": "markdown",
   "id": "ba11e5f7",
   "metadata": {},
   "source": [
    "- 파이썬 기본 타입(String, Int 등) + List, Dict, Tuple에 대한 Validation 지원\n",
    "- 기존 Validation 라이브러리보다 빠름 ([Benchmark](https://pydantic-docs.helpmanual.io/benchmarks/))\n",
    "- Config를 효과적으로 관리하도록 도와줌\n",
    "- 머신러닝 Feature Data Validation으로도 활용 가능"
   ]
  },
  {
   "cell_type": "markdown",
   "id": "cc218a5e",
   "metadata": {},
   "source": [
    "- Pydantic의 두 가지 기능 확인\n",
    "  1. Validation\n",
    "  2. Config 관리"
   ]
  },
  {
   "cell_type": "markdown",
   "id": "4f08bbae",
   "metadata": {},
   "source": [
    "<br>\n",
    "\n",
    "### 1.4.2 Pydantic Validation\n",
    "\n",
    "- **Machine Learning Model Input Validation**\n",
    "- Online Serving에서 Input 데이터를 Validation하는 Case"
   ]
  },
  {
   "cell_type": "markdown",
   "id": "67b42395",
   "metadata": {},
   "source": [
    "<br>\n",
    "\n",
    "#### 1.4.2.1 Validation Check Logic\n",
    "\n",
    "- 조건 1: 올바른 url을 입력 받음 (url)\n",
    "- 조건 2: 1-10 사이의 정수 입력 받음 (rate)\n",
    "- 조건 3: 올바른 폴더 이름을 입력 받음(target_dir)"
   ]
  },
  {
   "cell_type": "markdown",
   "id": "e6198b77",
   "metadata": {},
   "source": [
    "<br>\n",
    "\n",
    "#### 1.4.2.2 사용할 수 있는 방법\n",
    "\n",
    "1. 일반 Python Class를 활용한 Input Definition 및 Validation\n",
    "2. Dataclass를(python 3.7 이상 필요) 활용한 Input Definition 및 Validation\n",
    "3. Pydantic을 활용한 Input Definition 및 Validation"
   ]
  },
  {
   "cell_type": "markdown",
   "id": "3e85623e",
   "metadata": {},
   "source": [
    "<br>\n",
    "\n",
    "#### 1.4.2.3 Python Class 활용 Validation\n",
    "\n",
    "- Python Class로 Input Definition 및 Validation => 의미 없는 코드가 많아짐\n",
    "- 복잡한 검증 로직엔 Class Method가 복잡해지기 쉬움\n",
    "- Exception Handling을 어떻게 할지 등 커스텀하게 제어할 수 있는 있지만 메인 로직(Input을 받아서 Inference를 수행하는)에 집중하기 어려워짐"
   ]
  },
  {
   "cell_type": "markdown",
   "id": "3e623075",
   "metadata": {},
   "source": [
    "<br>\n",
    "\n",
    "#### 1.4.2.4 dataclass 활용 Validation\n",
    "\n",
    "- dataclass 데코레이터 사용으로 `init` method를 따로 작성할 필요가 없어짐\n",
    "- post init 메서드(`__post_init__()`) 같은 편의 매직 메서드 사용 가능\n",
    "- 하지만 여전히 validate method를 따로 만들어야 함 (길어지는 검증 로직을 분리하기 위해)"
   ]
  },
  {
   "cell_type": "markdown",
   "id": "257c55db",
   "metadata": {},
   "source": [
    "- 인스턴스 생성 시점에서 Validation을 수행하기 쉬움\n",
    "- 여전히 Validation 로직들을 직접 작성해야 함\n",
    "- Validation 로직을 따로 작성하지 않으면, 런타임에서 type checking을 지원하지 않음"
   ]
  },
  {
   "cell_type": "markdown",
   "id": "1a63677b",
   "metadata": {},
   "source": [
    "<br>\n",
    "\n",
    "#### 1.4.2.5 Pydantic Validation\n",
    "\n",
    "- 훨씬 간결해진 코드\n",
    "- 주로 쓰이는 타입들(http url, db url, enum 등)에 대한 Validation이 만들어져 있음\n",
    "- 런타임에서 Type Hint에 따라서 Validation Error 발생\n",
    "- Custom Type에 대한 Validation도 쉽게 사용 가능\n",
    "- [참고 링크](https://pydantic-docs.helpmanual.io/usage/types/)"
   ]
  },
  {
   "cell_type": "markdown",
   "id": "fc1855f9",
   "metadata": {},
   "source": [
    "- 어디서 에러가 발생했는 지 location, type, message 등을 알려줌"
   ]
  },
  {
   "cell_type": "markdown",
   "id": "36be257c",
   "metadata": {},
   "source": [
    "<br>\n",
    "\n",
    "### 1.4.3 Pydantic Config\n",
    "\n",
    "- Pydantic은 Config을 체계적으로 관리할 방법을 제공\n",
    "- 기존에 다른 라이브러리들은 어떻게 Config를 설정하고 있을까?"
   ]
  },
  {
   "cell_type": "markdown",
   "id": "e0069d06",
   "metadata": {},
   "source": [
    "- 애플리케이션은 종종 설정을 상수로 코드에 저장함\n",
    "- 이것은 Twelve-Factor를 위반"
   ]
  },
  {
   "cell_type": "markdown",
   "id": "9898340f",
   "metadata": {},
   "source": [
    "- Twelve-Factor는 설정을 코드에서 엄격하게 분리하는 것을 요구함\n",
    "- Twelve-Factor App은 설정을 환경 변수(envvars나 env라고도 불림)에 저장함\n",
    "- 환경 변수는 코드 변경 없이 쉽게 배포 때마다 쉽게 변경할 수 있음"
   ]
  },
  {
   "cell_type": "markdown",
   "id": "1902f9dd",
   "metadata": {},
   "source": [
    "- The Twelve-Factor App이라는 SaaS(Software as a Service)를 만들기 위한 방법론을 정리한 규칙들에 따르면, 환경 설정은 애플리케이션 코드에서 분리되어 관리되어야 함"
   ]
  },
  {
   "cell_type": "markdown",
   "id": "33586847",
   "metadata": {},
   "source": [
    "- 참고 글: [https://12factor.net/ko/config](https://12factor.net/ko/config)"
   ]
  },
  {
   "cell_type": "markdown",
   "id": "07c6d5a6",
   "metadata": {},
   "source": [
    "<br>\n",
    "\n",
    "#### 1.4.3.1 `.ini`, `.yaml` 파일 등으로 config 설정하기\n",
    "\n",
    "- yaml로 환경 설정을 관리할 경우, 쉽게 환경을 설정할 수 있지만, 환경에 대한 설정을 코드 하드코딩하는 형태\n",
    "- 때문에 변경 사항이 생길 때 유연하게 코드를 변경하기 어려움"
   ]
  },
  {
   "cell_type": "markdown",
   "id": "2ab76dcd",
   "metadata": {},
   "source": [
    "<br>\n",
    "\n",
    "#### 1.4.3.2 flask-style config.py\n",
    "\n",
    "- Config 클래스에서 yaml, ini 파일을 불러와 python class 필드로 주입하는 과정을 구현\n",
    "- Config를 상속한 클래스에서는 Config 클래스의 정보를 오버라이딩해서 사용\n",
    "- 하지만 해당 파일의 데이터가 정상적인지 체크하거나(Validation) 또는 환경 변수로 부터 해당 필드를 오버라이딩(Overriding) 하려면 코드량이 늘어남"
   ]
  },
  {
   "cell_type": "markdown",
   "id": "168c6a33",
   "metadata": {},
   "source": [
    "<br>\n",
    "\n",
    "#### 1.4.3.3 pydantic base settings\n",
    "\n",
    "- Validation처럼 Pydantic은 BaseSettings를 상속한 클래스에서 Type Hint로 주입된 설정 데이터를 검증할 수 있음\n",
    "- Field 클래스의 env 인자로, 환경 변수로 부터 해당 필드를 오버라이딩 할 수 있음\n",
    "- yaml, ini 파일들을 추가적으로 만들지 않고, .env 파일들을 환경별로 만들어 두거나, 실행 환경에서 유연하게 오버라이딩 할 수 있음"
   ]
  },
  {
   "cell_type": "markdown",
   "id": "0a9b61a1",
   "metadata": {},
   "source": [
    "<br>\n",
    "\n",
    "#### 1.4.3.4 3가지 방법 비교\n",
    "\n",
    "- 위의 세 방법 모두 틀린 방법은 아님\n",
    "- 실무에서는 무조건 pydantic을 활용하기 보다는, 각 팀에서 맞는 방법을 따라가는 것이 좋음\n",
    "- 하지만 실무에서 여러 사람과 협업하는 환경에서 Human Error를 줄여주는 Pydantic의 기능들은 유용!"
   ]
  },
  {
   "cell_type": "markdown",
   "id": "4f1bd16f",
   "metadata": {},
   "source": [
    "<br>\n",
    "\n",
    "## 1.5 FastAPI 익숙해지기"
   ]
  },
  {
   "cell_type": "markdown",
   "id": "4020db1e",
   "metadata": {},
   "source": [
    "### 1.5.1 Event Handler\n",
    "\n",
    "- 이벤트가 발생했을 때, 그 처리를 담당하는 함수\n",
    "- FastAPI에선 Application이 실행할 때, 종료될 때 특정 함수를 실행할 수 있음"
   ]
  },
  {
   "cell_type": "markdown",
   "id": "a41b6698",
   "metadata": {},
   "source": [
    "- `@app.on_event(“startup”)`\n",
    "- `@app.on_event(“shutdown”)`"
   ]
  },
  {
   "cell_type": "markdown",
   "id": "c31a4ee5",
   "metadata": {},
   "source": [
    "- 예시\n",
    "  - startup 할 때 머신러닝 모델 Load\n",
    "  - shutdown 할 때 로그 저장"
   ]
  },
  {
   "cell_type": "markdown",
   "id": "226301f3",
   "metadata": {},
   "source": [
    "- `examples/11_event_hanlder.py`"
   ]
  },
  {
   "cell_type": "markdown",
   "id": "8c5beb04",
   "metadata": {},
   "source": [
    "<br>\n",
    "\n",
    "### 1.5.2 API Router\n",
    "\n",
    "- API Router는 더 큰 애플리케이션들에서 많이 사용되는 기능\n",
    "- API Endpoint를 정의\n",
    "- Python Subpackage\n",
    "- APIRouter는 Mini FastAPI로 여러 API를 연결해서 활용"
   ]
  },
  {
   "cell_type": "markdown",
   "id": "b678f584",
   "metadata": {},
   "source": [
    "- 기존에 사용하던 `@app.get`, `@app.post`을 사용하지 않고, router 파일을 따로 설정하고 app에 import해서 사용"
   ]
  },
  {
   "cell_type": "markdown",
   "id": "1af1dbb1",
   "metadata": {},
   "source": [
    "- `examples/12_api_router.py`\n",
    "  - 실제 활용한다면 하나의 파일에 저장하지 않고 각각 저장 (`user.py`, `order.py`)"
   ]
  },
  {
   "cell_type": "markdown",
   "id": "7ad35f50",
   "metadata": {},
   "source": [
    "<br>\n",
    "\n",
    "### 1.5.3 프로젝트 구조\n",
    "\n",
    "```\n",
    ".\n",
    "└── app\n",
    "   ├── __init__.py\n",
    "   ├── main.py\n",
    "   ├── dependencies.py\n",
    "   └── routers\n",
    "   │  ├── __init__.py\n",
    "   │  ├── items.py\n",
    "   │  └── users.py\n",
    "   └── internal\n",
    "      ├── __init__.py\n",
    "      └── admin.py\n",
    "```"
   ]
  },
  {
   "cell_type": "markdown",
   "id": "0237fbde",
   "metadata": {},
   "source": [
    "&nbsp;&nbsp;&nbsp;&nbsp;&nbsp;\n",
    "<img src='https://drive.google.com/uc?id=1ylqDBFSlixXlr7CVnAkLP4Pc0GbOOhxn' width=800/>"
   ]
  },
  {
   "cell_type": "markdown",
   "id": "cca4cd01",
   "metadata": {},
   "source": [
    "```\n",
    ".\n",
    "└── app                   # 메인 App\n",
    "   ├── __init__.py        # App, Python Package 생성을 위한 파일\n",
    "   ├── main.py            # main Module. import app.main\n",
    "   ├── dependencies.py    # 의존성 Module, import app.dependencies\n",
    "   └── routers            # Sub FastAPI(Python Subpackage)\n",
    "   │  ├── __init__.py     # Python Subpackage routers 생성\n",
    "   │  ├── items.py        # items Submodule, import app.routers.items\n",
    "   │  └── users.py        # users Submodule, import app.routers.users\n",
    "   └── internal           # internal Python subpackage\n",
    "      ├── __init__.py\n",
    "      └── admin.py\n",
    "```"
   ]
  },
  {
   "cell_type": "markdown",
   "id": "1249a137",
   "metadata": {},
   "source": [
    "<br>\n",
    "\n",
    "### 1.5.4 Error Handling\n",
    "\n",
    "- Error Handling은 웹 서버를 안정적으로 운영하기 위해 반드시 필요한 주제\n",
    "- 서버에서 Error가 발생한 경우, 어떤 Error가 발생했는지 알아야 하고 요청한 클라이언트에 해당 정보를 전달해 대응할 수 있어야 함\n",
    "- 서버 개발자는 모니터링 도구를 사용해 Error Log를 수집해야 함\n",
    "- 발생하고 있는 오류를 빠르게 수정할 수 있도록 예외 처리를 잘 만들 필요가 있음"
   ]
  },
  {
   "cell_type": "markdown",
   "id": "8d0f9800",
   "metadata": {},
   "source": [
    "- `examples/13_exception_handling.py`"
   ]
  },
  {
   "cell_type": "markdown",
   "id": "4de3c860",
   "metadata": {},
   "source": [
    "- `item_id`가 `5`일 경우 Internal Server Error 500 Return\n",
    "- 이렇게 되면 클라이언트는 어떤 에러가 난 것인지 정보를 얻을 수 없고, 자세한 에러를 보려면 서버에 직접 접근해서 로그를 확인해야 함\n",
    "- 에러 핸들링을 더 잘 하려면 에러 메시지와 에러의 이유 등을 클라이언트에 전달하도록 코드를 작성해야 함"
   ]
  },
  {
   "cell_type": "markdown",
   "id": "860a9ad1",
   "metadata": {},
   "source": [
    "- FastAPI의 `HTTPException`은 Error Response를 더 쉽게 보낼 수 있도록 하는 Class\n",
    "- `HTTPException`을 이용해서 클라이언트에게 더 자세한 에러 메시지를 보내는 코드 작성"
   ]
  },
  {
   "cell_type": "markdown",
   "id": "c24a6dd1",
   "metadata": {},
   "source": [
    "<br>\n",
    "\n",
    "### 1.5.5 Background Task\n",
    "\n",
    "- FastAPI는 Starlett이라는 비동기 프레임워크를 래핑해서 사용\n",
    "- FastAPI의 기능 중 Background Tasks 기능은 오래 걸리는 작업들을 background에서 실행함"
   ]
  },
  {
   "cell_type": "markdown",
   "id": "45cdd70e",
   "metadata": {},
   "source": [
    "- Online Serving에서 CPU 사용이 많은 작업들을 Background Task로 사용하면,\n",
    "- 클라이언트는 작업 완료를 기다리지 않고 즉시 Response를 받아볼 수 있음\n",
    "  - ex) 특정 작업 후, 이메일 전송하는 Task 등"
   ]
  },
  {
   "cell_type": "markdown",
   "id": "0a463741",
   "metadata": {},
   "source": [
    "- `examples/14_background_tasks.py`"
   ]
  },
  {
   "cell_type": "markdown",
   "id": "5307d584",
   "metadata": {},
   "source": [
    "- Background Tasks를 사용하지 않은 작업들은 작업 시간 만큼 응답을 기다림\n",
    "- Background Tasks를 사용한 작업들은 기다리지 않고 바로 응답을 주기 때문에 0초 소요\n",
    "  - 실제 작업은 Background에서 실행됨"
   ]
  },
  {
   "cell_type": "markdown",
   "id": "47119f51",
   "metadata": {},
   "source": [
    "- 작업 결과물을 조회할 때는 Task를 어딘가에 저장해두고, GET 요청을 통해 Task가 완료됐는지 확인"
   ]
  },
  {
   "cell_type": "markdown",
   "id": "e4de4fef",
   "metadata": {},
   "source": [
    "<br>\n",
    "\n",
    "## 1.6 FastAPI가 어렵다면"
   ]
  },
  {
   "cell_type": "markdown",
   "id": "23dcbb78",
   "metadata": {},
   "source": [
    "### 1.6.1 프로젝트 구조 - Cookiecutter\n",
    "\n",
    "- 쿠키를 만들 때 사용하는 Cookiecutter\n",
    "- 많은 사람들이 프로젝트 구조에 대한 고민이 많아 템플릿을 서로 공유"
   ]
  },
  {
   "cell_type": "markdown",
   "id": "8f44855b",
   "metadata": {},
   "source": [
    "- [https://github.com/cookiecutter/cookiecutter](https://github.com/cookiecutter/cookiecutter)"
   ]
  },
  {
   "cell_type": "markdown",
   "id": "633e2b3c",
   "metadata": {},
   "source": [
    "- CLI 형태로 프로젝트 생성 과정을 도와줌\n",
    "- 회사에서 공통의 프로젝트 구조가 필요하면 쿠키 커터로 설정\n",
    "- 개인용 쿠키 커터 템플릿을 만드는 것도 좋은 방법"
   ]
  },
  {
   "cell_type": "markdown",
   "id": "7104690c",
   "metadata": {},
   "source": [
    "- Cookiecutter Data Science\n",
    "  - [https://github.com/drivendata/cookiecutter-data-science](https://github.com/drivendata/cookiecutter-data-science)"
   ]
  },
  {
   "cell_type": "markdown",
   "id": "f01f339a",
   "metadata": {},
   "source": [
    "- cookitcutter-fastapi\n",
    "  - [https://github.com/arthurhenrique/cookiecutter-fastapi](https://github.com/arthurhenrique/cookiecutter-fastapi)"
   ]
  },
  {
   "cell_type": "markdown",
   "id": "97ba878c",
   "metadata": {},
   "source": [
    "- 아예 처음 진행할 때는 일단 하나의 파일에 모두 코드 작성해서 FastAPI에 익숙해지고 그 이후에 다른 프로젝트 구조를 참고해서 코드 개선\n",
    "- 클린 아키텍처 류의 책을 보면서 계속 구조 고민해보기"
   ]
  },
  {
   "cell_type": "markdown",
   "id": "d28fd6dc",
   "metadata": {},
   "source": [
    "<br>\n",
    "\n",
    "### 1.6.2 객체 지향\n",
    "\n",
    "- 절차형 프로그래밍 vs 객체 지향 프로그래밍의 차이 이해해보기\n",
    "- 객체 지향 프로그래밍은 코드의 중복을 최소화해서 재사용성을 증가시킴\n",
    "- 복잡한 로직이 들어갈수록 점점 빛을 발휘함"
   ]
  },
  {
   "cell_type": "markdown",
   "id": "abaf8f67",
   "metadata": {},
   "source": [
    "- 현재 가지고 있는 코드를 Class로 변경해보기\n",
    "- Pydantic Use Case 탐색하기"
   ]
  },
  {
   "cell_type": "markdown",
   "id": "15a2bb17",
   "metadata": {},
   "source": [
    "<br>\n",
    "\n",
    "### 1.6.3 Try & Error"
   ]
  },
  {
   "cell_type": "markdown",
   "id": "ed7a6486",
   "metadata": {},
   "source": [
    "- 백엔드 프로그래밍이 처음이면 낯선 것이 당연\n",
    "- 코드를 작성하고 => 실행하고 => 수정하는 Flow\n",
    "- 조급해하지 않고 작은 규모의 프로젝트부터 하나씩 만들기"
   ]
  },
  {
   "cell_type": "markdown",
   "id": "550d9ce3",
   "metadata": {},
   "source": [
    "- 목표를 설정하고(무엇을 만들겠다) => 기능을 정의 => 하나씩 구현\n",
    "- 막연히 FastAPI를 학습해야지보다는 프로젝트를 FastAPI 백엔드로 구현! 등으로 목표 설정"
   ]
  },
  {
   "cell_type": "code",
   "execution_count": null,
   "id": "4c638103",
   "metadata": {},
   "outputs": [],
   "source": []
  }
 ],
 "metadata": {
  "kernelspec": {
   "display_name": "Python 3 (ipykernel)",
   "language": "python",
   "name": "python3"
  },
  "language_info": {
   "codemirror_mode": {
    "name": "ipython",
    "version": 3
   },
   "file_extension": ".py",
   "mimetype": "text/x-python",
   "name": "python",
   "nbconvert_exporter": "python",
   "pygments_lexer": "ipython3",
   "version": "3.8.12"
  }
 },
 "nbformat": 4,
 "nbformat_minor": 5
}
