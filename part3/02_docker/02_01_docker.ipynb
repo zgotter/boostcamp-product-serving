{
 "cells": [
  {
   "cell_type": "markdown",
   "metadata": {},
   "source": [
    "# 2. Docker"
   ]
  },
  {
   "cell_type": "markdown",
   "metadata": {},
   "source": [
    "- [강의 자료 링크 (pdf)](https://drive.google.com/file/d/1yffWrQgYCNVZPVRmqMXZiHwu7aPpLqPf/view?usp=sharing)"
   ]
  },
  {
   "cell_type": "markdown",
   "metadata": {},
   "source": [
    "<br>\n",
    "\n",
    "## 2.1 주요 명령어"
   ]
  },
  {
   "cell_type": "markdown",
   "metadata": {},
   "source": [
    "### 2.1.1 설치 확인\n",
    "\n",
    "\n",
    "`docker`\n",
    "\n",
    "- 도커 설치 확인"
   ]
  },
  {
   "cell_type": "markdown",
   "metadata": {},
   "source": [
    "<br>\n",
    "\n",
    "### 2.1.2 도커 이미지 pull\n",
    "\n",
    "`docker pull --platform linux/amd64 이미지이름:태그`\n",
    "\n",
    "- 도커 이미지 다운로드\n",
    "- m1 mac은 `--platform linux/amd64`를 추가해줘야 한다.\n",
    "- ex) mysql 8 버전 설치\n",
    "  - `docker pull --platform linux/amd64 mysql:8`"
   ]
  },
  {
   "cell_type": "markdown",
   "metadata": {},
   "source": [
    "<br>\n",
    "\n",
    "### 2.1.3 이미지 목록 확인\n",
    "\n",
    "`docker images`\n",
    "\n",
    "- 다운로드 받은 이미지 확인"
   ]
  },
  {
   "cell_type": "markdown",
   "metadata": {},
   "source": [
    "<br>\n",
    "\n",
    "### 2.1.4 이미지 기반 도커 컨테이너 생성 및 실행\n",
    "\n",
    "`docker run \"이미지 이름:태그\"`\n",
    "\n",
    "- 다운로드 받은 이미지 기반으로 docker container 만들고 실행\n",
    "- ex) MySQL 이미지 기반 docker container 실행\n",
    "\n",
    "```\n",
    "docker run --name mysql-tutorial -e MYSQL_ROOT_PASSWORD=1234 -d -p 3306:3306 mysql:8\n",
    "```\n",
    "\n",
    "- `--name`\n",
    "  - 컨테이너 이름 지정\n",
    "  - 지정하지 않으면 랜덤으로 생성\n",
    "- `-e`\n",
    "  - 환경변수 설정\n",
    "  - 사용하는 이미지에 따라 설정이 다름\n",
    "- `-d`\n",
    "  - 데몬(백그라운드) 모드\n",
    "  - 컨테이너를 백그라운드 형태로 실행\n",
    "  - 이 설정을 하지 않으면, 현재 실행하는 shell 위에서 컨테이너가 실행됨\n",
    "  - 그렇게 되면 컨테이너의 로그를 바로 볼 수 있으나, 컨테이너를 나가면 실행 종료\n",
    "- `-p`\n",
    "  - 포트 정보\n",
    "  - `로컬 호스트 포트:컨테이터 포트`\n",
    "  - 로컬 포트 3306으로 접근 시 컨테이너 포트 3306으로 연결되도록 설정\n",
    "  - 로컬 호스트: 우리의 컴퓨터\n",
    "  - 컨테이너: 컨테이너 이미지 내부\n",
    "- `-v`\n",
    "  - volume mount\n",
    "  - 로컬 저장소와 도커 컨테이너 내부의 저장소 공유\n",
    "  - `호스트 폴더:컨테이터 폴더`"
   ]
  },
  {
   "cell_type": "markdown",
   "metadata": {},
   "source": [
    "<br>\n",
    "\n",
    "### 2.1.4 실행중인 컨테이너 확인\n",
    "\n",
    "`docker ps`\n",
    "\n",
    "- 실행 중인 도커 컨테이너 확인"
   ]
  },
  {
   "cell_type": "markdown",
   "metadata": {},
   "source": [
    "`docker ps -a`\n",
    "\n",
    "- 작동을 멈춘 컨테이너 목록 확인"
   ]
  },
  {
   "cell_type": "markdown",
   "metadata": {},
   "source": [
    "<br>\n",
    "\n",
    "### 2.1.5 컨테이너 진입\n",
    "\n",
    "`docker exec -it \"컨테이너 이름(or ID)\" /bin/bash`\n",
    "\n",
    "- 컨테이너 진입\n",
    "- SSH 접속과 유사"
   ]
  },
  {
   "cell_type": "markdown",
   "metadata": {},
   "source": [
    "<br>\n",
    "\n",
    "### 2.1.6 컨테이너 중지\n",
    "\n",
    "`docker stop \"컨테이너 이름(or ID)\"`\n",
    "\n",
    "- 실행중인 컨테이너 중지"
   ]
  },
  {
   "cell_type": "markdown",
   "metadata": {},
   "source": [
    "<br>\n",
    "\n",
    "### 2.1.7 컨테이너 삭제\n",
    "\n",
    "`docker rm \"컨테이너 이름(or ID)\"`\n",
    "\n",
    "- 멈춘 도커 컨테이너 삭제\n",
    "- 멈춘 컨테이너만 삭제할 수 있지만 `docker rm \"컨테이너 이름(or ID)\" -f` 로 실행 중인 컨테이너도 삭제 가능"
   ]
  },
  {
   "cell_type": "markdown",
   "metadata": {},
   "source": [
    "<br>\n",
    "\n",
    "## 2.2 docker 파일 공유\n",
    "\n",
    "- `docker run` 할 때 `-v` 옵션을 사용하여 host와 container의 폴더를 공유할 수 있다.\n",
    "  - `-v host_folder:container_folder`\n",
    "- ex) 주피터 노트북 컨테이너 사용 시\n",
    "  - `docker run -it -p 8888:8888 -v /some/host/folder/for/work:/home/jovyan/workspace/jupyter/minimal-notebook`"
   ]
  },
  {
   "cell_type": "markdown",
   "metadata": {},
   "source": [
    "<br>\n",
    "\n",
    "## 2.3 docker image 만들기"
   ]
  },
  {
   "cell_type": "markdown",
   "metadata": {},
   "source": [
    "### 2.3.1 프로젝트 세팅\n",
    "\n",
    "```\n",
    "python -m venv .venv\n",
    "source .venv/bin/activate\n",
    "pip install pip --upgrade\n",
    "pip install \"fastapi[all]\"\n",
    "```"
   ]
  },
  {
   "cell_type": "markdown",
   "metadata": {},
   "source": [
    "<br>\n",
    "\n",
    "### 2.3.2 FastAPI 코드 작성\n",
    "\n",
    "`main.py`\n",
    "\n",
    "```python\n",
    "from fastapi import FastAPI\n",
    "import uvicorn\n",
    "\n",
    "app = FastAPI()\n",
    "\n",
    "@app.get(\"/hello\")\n",
    "def hello():\n",
    "    return {\"message\": \"World!\"}\n",
    "\n",
    "\n",
    "if __name__ == \"__main__\":\n",
    "    uvicorn.run(app, host=\"0.0.0.0\", port=8000)\n",
    "```"
   ]
  },
  {
   "cell_type": "markdown",
   "metadata": {},
   "source": [
    "<br>\n",
    "\n",
    "### 2.3.3 사용한 라이브러리 명시\n",
    "\n",
    "- `pip freeze`\n",
    "  - 설치한 라이브러리 확인\n",
    "- `pip list --not-required --format=freeze`\n",
    "  - 설치한 라이브러리 확인\n",
    "  - 의존성에 따라 설치된 라이브러리는 보이지 않음\n",
    "- `pip freeze > requirements.txt`\n",
    "  - pip로 설치한 라이브러리 모두 `requirements.txt`에 저장"
   ]
  },
  {
   "cell_type": "markdown",
   "metadata": {},
   "source": [
    "<br>\n",
    "\n",
    "### 2.3.4 Dockerfile 작성\n",
    "\n",
    "`Dockerfile`\n",
    "\n",
    "- Dockerfile에는 도커 이미지를 만들기 위한 정보들을 담고 있다.\n",
    "\n",
    "```docker\n",
    "FROM python:3.8.7-slim-buster\n",
    "\n",
    "COPY . /app\n",
    "WORKDIR /app\n",
    "ENV PYTHONPATH=/app\n",
    "ENV PYTHONBUFFERED=1\n",
    "\n",
    "RUN pip install pip==21.2.4 && \\\n",
    "    pip install pip --upgrade && \\\n",
    "    pip install -r requirements.txt\n",
    "\n",
    "CMD [\"python\", \"main.py\"]\n",
    "```"
   ]
  },
  {
   "cell_type": "markdown",
   "metadata": {},
   "source": [
    "<br>\n",
    "\n",
    "`FROM 이미지 이름:태그`\n",
    "\n",
    "- 이미지 빌드에 사용할 베이스 이미지 지정\n",
    "- 베이스 이미지는 이미 만들어진 이미지\n",
    "- 보통 처음부터 만들지 않고, 이미 공개된 이미지를 기반으로 새로운 설정을 추가\n",
    "- `FROM python:3.8.7-slim-buster`\n",
    "  - Dockerhub에 존재하는 `python:3.8.7-slim-buster` 라는 이미지를 사용"
   ]
  },
  {
   "cell_type": "markdown",
   "metadata": {},
   "source": [
    "<br>\n",
    "\n",
    "`COPY \"로컬 디렉토리(파일)\" \"컨테이너 내 디렉토리(파일)\"`\n",
    "\n",
    "- 컨테이너는 자체적인 파일 시스템과 디렉토리를 가짐\n",
    "- `COPY` 명령어는 Dockerfile이 존재하는 경로 기준 로컬 디렉토리를 컨테이너 내부의(자체 파일 시스템을 가진) 디렉토리로 복사\n",
    "- 파일을 컨테이너에서 사용하려면 `COPY` 명령어로 반드시 복사해야 함\n",
    "- `COPY . /app`\n",
    "  - 프로젝트 최상위에 존재하는 모든 파일을 컨테이너 내부 `/app` 디렉토리로 복사"
   ]
  },
  {
   "cell_type": "markdown",
   "metadata": {},
   "source": [
    "<br>\n",
    "\n",
    "`WORKDIR \"컨테이너 내 디렉토리\"`\n",
    "\n",
    "- Dockerfile의 `RUN`, `CMD`, `ENTRYPOINT` 등의 명령어를 실행할 컨테이너 경로 지정\n",
    "- `WORKDIR /app`\n",
    "  - 이 라인 뒤에 등장하는 `RUN`, `CMD`는 컨테이너 내부의 `/app`에서 실행"
   ]
  },
  {
   "cell_type": "markdown",
   "metadata": {},
   "source": [
    "<br>\n",
    "\n",
    "`ENV \"환경변수 이름=값\"`\n",
    "\n",
    "- 컨테이너 내 환경변수를 지정\n",
    "- 파이선 애플리케이션의 경우 통상 다음 두 값을 지정\n",
    "  - `ENV PYTHONPATH=/app`\n",
    "  - `ENV PYTHONBUFFERED=1`"
   ]
  },
  {
   "cell_type": "markdown",
   "metadata": {},
   "source": [
    "<br>\n",
    "\n",
    "`RUN \"실행할 리눅스 명령어\"`\n",
    "\n",
    "- 컨테이너 내에서 리눅스 명령어를 실행\n",
    "- 실행해야 할 명령어가 여러 개인 경우 `&& \\`로 이어줌\n",
    "  - `RUN` 명령어를 하나의 레이어로 묶어주는 게 좋기 때문에 `RUN`을 여러 번 쓰는 것보다 명령어들을 묶어주는 것이 좋다.\n",
    "- 이전 라인에서 `COPY`와 `WORKDIR`이 실행되었기 때문에 컨테이너 내에 `requirements.txt`가 존재하고 이를 `pip install -r` 명령어로 실행시킬 수 있음"
   ]
  },
  {
   "cell_type": "markdown",
   "metadata": {},
   "source": [
    "<br>\n",
    "\n",
    "`CMD [\"실행할 명령어\", \"인자\", ...]`\n",
    "\n",
    "- `docker run`으로 이 이미지를 기반으로 컨테이너를 만들 때, 실행할 명령어\n",
    "- `CMD [\"python\", \"main.py\"]`\n",
    "  - 이 이미지는 실행되는 즉시 `python main.py`를 실행한다.\n",
    "- `CMD`는 띄어쓰기를 사용하지 않음"
   ]
  },
  {
   "cell_type": "markdown",
   "metadata": {},
   "source": [
    "<br>\n",
    "\n",
    "`RUN` vs `CMD` vs `ENTRYPOINT`\n",
    "\n",
    "- [https://blog.leocat.kr/notes/2017/01/08/docker-run-vs-cmd-vs-entrypoint](https://blog.leocat.kr/notes/2017/01/08/docker-run-vs-cmd-vs-entrypoint)\n",
    "- 처음에는 3개 중 하나를 사용하고 점차 확장해나가는 것을 추천"
   ]
  },
  {
   "cell_type": "markdown",
   "metadata": {},
   "source": [
    "<br>\n",
    "\n",
    "`EXPOSE`\n",
    "\n",
    "- 컨테이너 외부에 노출할 포트 지정"
   ]
  },
  {
   "cell_type": "markdown",
   "metadata": {},
   "source": [
    "<br>\n",
    "\n",
    "`ENTRYPOINT`\n",
    "\n",
    "- 이미지를 컨테이너로 띄울 때 항상 실행하는 커맨드"
   ]
  },
  {
   "cell_type": "markdown",
   "metadata": {},
   "source": [
    "<br>\n",
    "\n",
    "### 2.3.5 Docker Image Build\n",
    "\n",
    "- `docker build \"Dockerfile이 위치한 경로\" -t \"이미지 이름:태그\"`\n",
    "- `docker build . -t my-fastapi-app --platform linux/amd64`"
   ]
  },
  {
   "cell_type": "markdown",
   "metadata": {},
   "source": [
    "<br>\n",
    "\n",
    "### 2.3.6 컨테이너 실행\n",
    "\n",
    "- `docker run -p 8000:8000 my-fastapi-app`"
   ]
  },
  {
   "cell_type": "markdown",
   "metadata": {},
   "source": [
    "<br>\n",
    "\n",
    "## 2.4 Registry에 Docker Image Push\n",
    "\n",
    "- 만든 이미지를 인터넷에 업로드\n",
    "- 이를 위해 이미지 저장소인 **Container Registry**에 Docker Image Push\n",
    "- Container Registry\n",
    "  - Dockerhub, GCP GCR, AWS ECR 등\n",
    "- 보통 어떤 클라우드 서비스로 배포할 지에 따라 어떤 레지스트리 서비스를 사용할 지 결정\n",
    "  - ex) GCP에서 배포한다면, 레지스트리도 역시 GCP 서비스인 GCR을 사용하는 식\n",
    "- 별도로 지정하지 않으면 기본적으로 Dockerhub을 사용\n",
    "- 우리는 GCP의 GCR을 사용"
   ]
  },
  {
   "cell_type": "markdown",
   "metadata": {},
   "source": [
    "<br>\n",
    "\n",
    "### 2.4.1 GCR 설정\n",
    "\n",
    "- Container Registry"
   ]
  },
  {
   "cell_type": "markdown",
   "metadata": {},
   "source": [
    "<br>\n",
    "\n",
    "### 2.4.2 gcloud 설정\n",
    "\n",
    "- gcloud 설치\n",
    "- [Cloud SDK Install](https://cloud.google.com/sdk/docs/install)\n",
    "\n",
    "```\n",
    "~/program/google-cloud-sdk/install.sh\n",
    "```"
   ]
  },
  {
   "cell_type": "markdown",
   "metadata": {},
   "source": [
    "- `gcloud auth login`"
   ]
  },
  {
   "cell_type": "markdown",
   "metadata": {},
   "source": [
    "- `gcloud config set project \"프로젝트 ID\"`\n",
    "- `gcloud config set project product-serving`"
   ]
  },
  {
   "cell_type": "markdown",
   "metadata": {},
   "source": [
    "- `gcloud auth configure-docker`\n",
    "  - Docker 설정"
   ]
  },
  {
   "cell_type": "markdown",
   "metadata": {},
   "source": [
    "<br>\n",
    "\n",
    "### 2.4.3 Tag 설정\n",
    "\n",
    "- `docker tag \"기존 이미지:태그\" \"새 이미지 이름:태그\"`\n",
    "  - gcr에 올릴 이미지 이름은 `gcr.io/GCP \"프로젝트 이름/이미지 이름\"` 형태여야 한다.\n",
    "- `docker tag my-fastapi-app gcr.io/product-serving/my-fastapi-app`"
   ]
  },
  {
   "cell_type": "markdown",
   "metadata": {},
   "source": [
    "<br>\n",
    "\n",
    "### 2.4.4 Push\n",
    "\n",
    "- `docker push \"이미지 이름:태그\"`\n",
    "- `docker push gcr.io/product-serving/my-fastapi-app`"
   ]
  },
  {
   "cell_type": "markdown",
   "metadata": {},
   "source": [
    "<br>\n",
    "\n",
    "## 2.5 Registry의 Docker Image Pull\n",
    "\n",
    "- `docker pull gcr.io/product-serving/my-fastapi-app`"
   ]
  },
  {
   "cell_type": "markdown",
   "metadata": {},
   "source": [
    "<br>\n",
    "\n",
    "## 2.6 Docker 이미지로 배포하기 (1) - Cloud Run"
   ]
  },
  {
   "cell_type": "markdown",
   "metadata": {},
   "source": [
    "### 2.6.1 Serverless Cloud 서비스 - Cloud Run\n",
    "\n",
    "- 도커 이미지를 서버에 배포하는 가장 간단한 방법\n",
    "  - Cloud 서비스 활용\n",
    "  - GCP: Cloud Run\n",
    "  - AWS: ECS"
   ]
  },
  {
   "cell_type": "markdown",
   "metadata": {},
   "source": [
    "<br>\n",
    "\n",
    "## 2.7 Docker 이미지로 배포하기 (2) - Compute Engine\n",
    "\n",
    "다른 방식으로 Docker Image 배포\n",
    "- Compute Engine을 띄우고, 해당 인스턴스 실행될 때 Docker Image를 가지고 실행하도록 설정\n",
    "- Github Action을 사용해 Docker Image Push 자동화!\n",
    "- Part 2 - CI/CD에서 진행한 Streamlit 파일을 기반으로 실행"
   ]
  },
  {
   "cell_type": "markdown",
   "metadata": {},
   "source": [
    "<br>\n",
    "\n",
    "### 2.7.1 환경 설정\n",
    "\n",
    "GCP에서 서비스 계정 생성\n",
    "\n",
    "- IAM 및 관리자 - 서비스 계정\n",
    "- IAM(Identity and Access Management)\n",
    "  - 클라우드 서비스에 접근 권한을 관리하는 서비스\n",
    "- 서비스 계정(Service Account)\n",
    "  - 사용자가 아닌 애플리케이션, VM 인스턴스에서 사용하는 임의의 계정\n",
    "  - 프로젝트의 관리자가 서비스 계정에 권한을 부여할 수 있음"
   ]
  },
  {
   "cell_type": "markdown",
   "metadata": {},
   "source": [
    "<br>\n",
    "\n",
    "서비스 계정 key 생성\n",
    "\n",
    "- json 파일 형태의 key가 생성됨\n",
    "- 이 key가 노출되면 자신의 프로젝트가 해킹될 수 있으니 공유 금지"
   ]
  },
  {
   "cell_type": "markdown",
   "metadata": {},
   "source": [
    "<br>\n",
    "\n",
    "IAM에 생성한 서비스 계정 권한 부여"
   ]
  },
  {
   "cell_type": "markdown",
   "metadata": {},
   "source": [
    "<br>\n",
    "\n",
    "Github Repository의 Secret 추가\n",
    "\n",
    "- `SERVICE_ACCOUNT_KEY`\n",
    "  - 위에서 생성한 서비스 계정의 key json 파일 내용\n",
    "- `GCP_PROJECT_ID`\n",
    "  - gcp 프로젝트 ID\n",
    "- `GCE_INSTANCE`\n",
    "  - 인스턴스 이름\n",
    "- `GCE_INSTANCE_ZONE`\n",
    "  - 인스턴스의 zone"
   ]
  },
  {
   "cell_type": "markdown",
   "metadata": {},
   "source": [
    "<br>\n",
    "\n",
    "### 2.7.2 GCR Push"
   ]
  },
  {
   "cell_type": "markdown",
   "metadata": {},
   "source": [
    "`Dockerfile` 생성"
   ]
  },
  {
   "cell_type": "markdown",
   "metadata": {},
   "source": [
    "<br>\n",
    "\n",
    "`copy_asset.sh` 실행"
   ]
  },
  {
   "cell_type": "markdown",
   "metadata": {},
   "source": [
    "<br>\n",
    "\n",
    "로컬에서 도커 이미지 빌드\n",
    "\n",
    "`docker build . -t \"streamlit\" --platform linux/amd64`"
   ]
  },
  {
   "cell_type": "markdown",
   "metadata": {},
   "source": [
    "<br>\n",
    "\n",
    "도커 이미지 생성 확인\n",
    "\n",
    "`docker images | grep \"streamlit\"`"
   ]
  },
  {
   "cell_type": "markdown",
   "metadata": {},
   "source": [
    "<br>\n",
    "\n",
    "태그(tag) 설정\n",
    "\n",
    "`docker tag streamlit gcr.io/product-serving/streamlit`"
   ]
  },
  {
   "cell_type": "markdown",
   "metadata": {},
   "source": [
    "<br>\n",
    "\n",
    "GCR에 push\n",
    "\n",
    "`docker push gcr.io/product-serving/streamlit`"
   ]
  },
  {
   "cell_type": "markdown",
   "metadata": {},
   "source": [
    "- 시간이 많이 소요된다.\n",
    "- 왜 이렇게 느릴까?\n",
    "- 더 빠르게 하려면 어떻게 해야할까?\n",
    "- 현재 오래 걸리는 구간은 어디인가?\n",
    "  - 현재 4GB 용량을 차지하는데 이 이미지를 더 작은 것으로 변경하면 속도가 개선될 것이다.\n",
    "  - efficientnet pytorch 설치가 오래 소요 -> \"무거운 라이브러리가 있는 경우 이슈가 있구나\"를 인지"
   ]
  },
  {
   "cell_type": "markdown",
   "metadata": {},
   "source": [
    "<br>\n",
    "\n",
    "GCR에서 Docker Image 확인"
   ]
  },
  {
   "cell_type": "markdown",
   "metadata": {},
   "source": [
    "<br>\n",
    "\n",
    "### 2.7.3 수동 실행"
   ]
  },
  {
   "cell_type": "markdown",
   "metadata": {},
   "source": [
    "Compute Engine 인스턴스 생성\n",
    "\n",
    "- 부팅 디스크 용량은 50GB로\n",
    "- 컨테이너 구성\n",
    "  - 아까 GCR에 push한 컨테이너 이미지 지정\n",
    "  - 최신 이미지를 사용\n",
    "- 네크워크 태그 추가\n",
    "  - `streamlit`\n",
    "- 인스턴스가 생성되면 외부 IP로 접근"
   ]
  },
  {
   "cell_type": "markdown",
   "metadata": {},
   "source": [
    "<br>\n",
    "\n",
    "### 2.7.4 문제 발생 시\n",
    "\n",
    "만약 IP 주소에 접근할 수 없는 경우, 원인 파악 하나씩! (실무에서도 문제는 매번 발생)\n",
    "\n",
    "- 방화벽 설정 잘 되어 있는가?\n",
    "- 도커 이미지가 잘 push 되어 있는가?\n",
    "- Compute Engine 실행하면서 Docker를 잘 실행했는가?\n",
    "  - 확인하기 위해 SSH로 인스턴스 접속\n",
    "  - `docker images`를 진행하고 우리의 GCR Image 있는 지 확인\n",
    "  - 없다면 컨테이너 실행 로그 확인\n",
    "  - Compute Engine에 SSH 접속 후 다음 명령어를 입력하면 Container 실행하는 로그가 나옴\n",
    "    - `sudo journalctl -u konlet-startup`\n",
    "  - 로그 메시지 확인하며 다시 문제 해결\n",
    "  \n",
    "    "
   ]
  },
  {
   "cell_type": "markdown",
   "metadata": {},
   "source": [
    "<br>\n",
    "\n",
    "### 2.7.5 Github Action\n",
    "\n",
    "Github Action Workflow 생성하기\n",
    "\n",
    "- 작업 흐름\n",
    "  1. Feature/xxx Branch에서 작업\n",
    "  2. Main Branch로 Pull Request\n",
    "  3. Review 후 Merge\n",
    "  4. Merge된 파일에서 Docker Image Build\n",
    "  5. Docker Image Push\n",
    "  6. Compute Engine에 Docker Image 업데이트 요청"
   ]
  },
  {
   "cell_type": "markdown",
   "metadata": {},
   "source": [
    "<br>\n",
    "\n",
    "## 2.8 Docker Compose\n",
    "\n",
    "- 하나의 Docker Image가 아니라 여러 Docker Image를 동시에 실행하고 싶다면?\n",
    "- 혹은 A Image로 Container를 띄우고, 그 이후에 B Container를 실행해야 하는 경우\n",
    "  - ex) A는 Database이고, B는 웹 서비스인 경우\n",
    "- `docker run` 할 때 옵션이 너무 다양하고, Volume Mount를 하지 않았다면 데이터가 모두 날라감"
   ]
  },
  {
   "cell_type": "markdown",
   "metadata": {},
   "source": [
    "- 이럴 경우 활용할 수 있는 것이 Docker Compose이다.\n",
    "  - **여러 컨테이너를 한 번에 실행할 수 있음**\n",
    "  - 여러 컨테이너의 실행 순서, 의존도를 관리할 수 있음\n",
    "  - `docker-compose.yml` 파일에 작성"
   ]
  },
  {
   "cell_type": "markdown",
   "metadata": {},
   "source": [
    "<br>\n",
    "\n",
    "### 2.8.1 `docker-compose.yml`\n",
    "\n",
    "- docker-compose는 다음처럼 `docker-compose.yml` 파일에 특정 문법으로 작성\n",
    "- 다음 코드는 db 컨테이너와 app 컨테이너 두 개를 실행시키는 내용\n",
    "\n",
    "```\n",
    "version: '3'\n",
    "\n",
    "services:\n",
    "  db:\n",
    "    image: mysql:5.7.12\n",
    "    environment:\n",
    "      MYSQL_ROOT_PASSWORD: root\n",
    "      MYSQL_DATABASE: my_database\n",
    "    ports:\n",
    "      - 3306:3306\n",
    "\n",
    "  app:\n",
    "    build:\n",
    "      context: .\n",
    "    environment:\n",
    "      DB_URL: mysql+mysqldb://root:root@db:3306/my_database?charset=utf8mb4\n",
    "    ports:\n",
    "      - 8000:8000\n",
    "    depends_on:\n",
    "      - db\n",
    "    restart: always\n",
    "```"
   ]
  },
  {
   "cell_type": "markdown",
   "metadata": {},
   "source": [
    "<br>\n",
    "\n",
    "### 2.8.2 `docker-compose up`\n",
    "\n",
    "- Docker Image 일괄 실행\n",
    "- `docker-compose.yml` 파일을 파싱하여 container 실행\n",
    "- 이 때 필요한 이미지를 pull 하거나 build 하는 등의 과정도 포함"
   ]
  },
  {
   "cell_type": "markdown",
   "metadata": {},
   "source": [
    "<br>\n",
    "\n",
    "### 2.8.3 `docker-comose`의 다양한 명령어들\n",
    "\n",
    "- `docker-compose up -d`\n",
    "  - 백그라운드에서 실행하기 (`docker run -d`와 동일)\n",
    "- `docker-compose down`\n",
    "  - 서비스 중단 (컨테이너, 볼륨 등 삭제)\n",
    "- `docker-compose logs <서비스명>`\n",
    "  - 로그 확인"
   ]
  },
  {
   "cell_type": "markdown",
   "metadata": {},
   "source": [
    "- 참고로 `docker-compose.yml` 파일을 수정하고 `docker-compose up`을 하면 **컨테이너를 재생성하고, 서비스를 재시작함**"
   ]
  },
  {
   "cell_type": "markdown",
   "metadata": {},
   "source": [
    "<br>\n",
    "\n",
    "### 2.8.4 실행 중인 컨테이너 확인\n",
    "\n",
    "- `docker-compose up`이 완료되면 다음처럼 `docker ps` 명령어나 `docker-compose ps` 명령어로 현재 실행되고 있는 컨테이너를 확인할 수 있음"
   ]
  },
  {
   "cell_type": "markdown",
   "metadata": {},
   "source": [
    "<br>\n",
    "\n",
    "## 2.9 Special Mission\n",
    "\n",
    "1. Docker 설치해서 MySQL 설치하기\n",
    "2. Docker를 사용해 Jupyter Notebook 설치하기\n",
    "3. Jupyter Notebook Compute Engine에 배포하기\n",
    "4. Voila, Streamlit에서 진행한 내용 Docker Image로 말아서 배포하기\n",
    "5. Docker Compose로 Jupyter Notebook 설치하기"
   ]
  },
  {
   "cell_type": "code",
   "execution_count": null,
   "metadata": {},
   "outputs": [],
   "source": []
  }
 ],
 "metadata": {
  "interpreter": {
   "hash": "3d0365225f00e7491f5f5eca8039745657ee5fd1c8fc909c42d8d7cb531d795d"
  },
  "kernelspec": {
   "display_name": "Python 3 (ipykernel)",
   "language": "python",
   "name": "python3"
  },
  "language_info": {
   "codemirror_mode": {
    "name": "ipython",
    "version": 3
   },
   "file_extension": ".py",
   "mimetype": "text/x-python",
   "name": "python",
   "nbconvert_exporter": "python",
   "pygments_lexer": "ipython3",
   "version": "3.8.12"
  }
 },
 "nbformat": 4,
 "nbformat_minor": 4
}
