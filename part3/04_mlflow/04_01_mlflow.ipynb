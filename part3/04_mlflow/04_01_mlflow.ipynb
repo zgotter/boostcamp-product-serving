{
 "cells": [
  {
   "cell_type": "markdown",
   "id": "a870fb16",
   "metadata": {},
   "source": [
    "# 4. MLflow"
   ]
  },
  {
   "cell_type": "markdown",
   "id": "4f33d00a",
   "metadata": {},
   "source": [
    "## 4.1 MLflow 개념 잡기"
   ]
  },
  {
   "cell_type": "markdown",
   "id": "866d1cae",
   "metadata": {},
   "source": [
    "### 4.1.1 MLflow가 없던 시절\n",
    "\n",
    "- 사람들이 각자 자신의 코드를 Jupyter Notebook에서 작성\n",
    "- 머신러닝 모델 학습시 사용한 Parameter, Metric을 따로 기록"
   ]
  },
  {
   "cell_type": "markdown",
   "id": "c5cef499",
   "metadata": {},
   "source": [
    "- 개인 컴퓨터, 연구실 서버를 사용하다가 메모리 초과로 Memory Exceed 오류 발생\n",
    "- 학습하며 생긴 Weight File을 저장해 다른 동료들에게 공유\n",
    "- Weight File 이름으로 Model Versioning을 하거나 아예 Versioning을 하지 않음"
   ]
  },
  {
   "cell_type": "markdown",
   "id": "c986970f",
   "metadata": {},
   "source": [
    "<br>\n",
    "\n",
    "### 4.1.2 MLflow가 해결하려고 했던 Pain Point\n",
    "\n",
    "1. 실험을 추적하기 어렵다.\n",
    "2. 코드를 재현하기 어렵다.\n",
    "3. 모델을 패키징하고 배포하는 방법이 어렵다.\n",
    "4. 모델을 관리하기 위한 중앙 저장소가 없다."
   ]
  },
  {
   "cell_type": "markdown",
   "id": "f3504a5d",
   "metadata": {},
   "source": [
    "<br>\n",
    "\n",
    "### 4.1.3 MLflow란?\n",
    "\n",
    "- 머신러닝 실험, 배포를 쉽게 관리할 수 있는 오픈소스\n",
    "- 관련 오픈소스 중 제일 빠르게 성장 중"
   ]
  },
  {
   "cell_type": "markdown",
   "id": "074378b0",
   "metadata": {},
   "source": [
    "<br>\n",
    "\n",
    "### 4.1.4 MLflow - 맛보기\n",
    "\n",
    "CLI, GUI(웹 인터페이스) 지원\n",
    "\n",
    "&nbsp;&nbsp;&nbsp;&nbsp;&nbsp;\n",
    "<img src='https://drive.google.com/uc?id=1zNGTD1J9mYvnujF1mqYNP2PUSXqdxeGX' width=800/>"
   ]
  },
  {
   "cell_type": "markdown",
   "id": "3ab533af",
   "metadata": {},
   "source": [
    "<br>\n",
    "\n",
    "Code 예시 - `main.py`\n",
    "\n",
    "```python\n",
    "import numpy as np\n",
    "from sklearn.linear_model import LinearRegression\n",
    "import mlflow\n",
    "\n",
    "def main():\n",
    "    # enable autologging\n",
    "    mlflow.autolog(log_input_examples=True)\n",
    "    \n",
    "    # prepare training data\n",
    "    X = np.array([[1, 1], [1, 2], [2, 2], [2, 3]])\n",
    "    y = np.dot(X, np.array([1, 2])) + 3\n",
    "    \n",
    "    # train a model\n",
    "    model = LinearRegression()\n",
    "    with mlflow.start_run() as run:\n",
    "        model.fit(X, y)\n",
    "        print(\"Logged data and model in run {}\".format(run.info.run_id))\n",
    "\n",
    "if __name__ == \"__main__\":\n",
    "    main()\n",
    "```"
   ]
  },
  {
   "cell_type": "markdown",
   "id": "ec81e7dd",
   "metadata": {},
   "source": [
    "<br>\n",
    "\n",
    "### 4.1.5 MLflow의 핵심 기능"
   ]
  },
  {
   "cell_type": "markdown",
   "id": "4b2e4d27",
   "metadata": {},
   "source": [
    "#### 4.1.5.1 Experiment Management & Tracking\n",
    "\n",
    "- 머신러닝 관련 **\"실험\"들을 관리**하고, 각 실험의 내용들을 **기록**할 수 있음\n",
    "  - 예를 들어, 여러 사람이 **하나의 MLflow 서버 위에서 각자 자기 실험을 만들고 공유**할 수 있음\n",
    "- 실험을 정의하고, 실험을 실행할 수 있음. 이 실행은 머신러닝 훈련 코드를 실행한 기록\n",
    "  - 각 실행에 사용한 소스 코드, 하이퍼 파라미터, Metric, 부산물(모델 Artifact, Chart Image) 등을 저장"
   ]
  },
  {
   "cell_type": "markdown",
   "id": "f6a0600e",
   "metadata": {},
   "source": [
    "<br>\n",
    "\n",
    "#### 4.1.5.2 Model Registry\n",
    "\n",
    "- MLflow로 실행한 머신러닝 모델을 Model Registry(모델 저장소)에 등록할 수 있음\n",
    "- 모델 저장소에 모델이 저장될 때마다 해당 모델에 버전이 자동으로 올라감(Version 1 -> 2 -> 3..)\n",
    "- Model Registry에 등록된 모델은 다른 사람들에게 쉽게 공유 가능하고, 쉽게 활용할 수 있음\n",
    "- Github, Docker와 관련"
   ]
  },
  {
   "cell_type": "markdown",
   "id": "94e60852",
   "metadata": {},
   "source": [
    "<br>\n",
    "\n",
    "#### 4.1.5.3 Model Serving\n",
    "\n",
    "- Model Registry에 등록한 모델을 REST API 형태의 서버로 Serving 할 수 있음\n",
    "- Input = Model의 Input\n",
    "- Output = Model의 Output\n",
    "- 직접 Docker Image 만들지 않아도 생성할 수 있음"
   ]
  },
  {
   "cell_type": "markdown",
   "id": "955c7883",
   "metadata": {},
   "source": [
    "<br>\n",
    "\n",
    "### 4.1.6 MLflow Component\n",
    "\n",
    "1. MLflow Tracking\n",
    "2. MLflow Project\n",
    "3. MLflow Model\n",
    "4. MLflow Registry"
   ]
  },
  {
   "cell_type": "markdown",
   "id": "e683d4f6",
   "metadata": {},
   "source": [
    "<br>\n",
    "\n",
    "#### 4.1.6.1 MLflow Tracking\n",
    "\n",
    "- 머신러닝 코드 실행, 로깅을 위한 API, UI\n",
    "- MLflow Tracking을 사용해 결과를 Local, Server에 기록해 여러 실행과 비교할 수 있음\n",
    "- 팀에선 다른 사용자의 결과와 비교하며 협업할 수 있음"
   ]
  },
  {
   "cell_type": "markdown",
   "id": "5efb99c3",
   "metadata": {},
   "source": [
    "<br>\n",
    "\n",
    "#### 4.1.6.2 MLflow Project\n",
    "\n",
    "- 머신러닝 프로젝트 코드를 패키징하기 위한 표준\n",
    "- Project\n",
    "  - 간단하겐 소스 코드가 저장된 폴더\n",
    "  - Git Repo\n",
    "  - 의존성과 어떻게 실행해야 하는지 저장\n",
    "- MLflow Tracking API를 사용하면 MLflow는 프로젝트 버전을 모든 파라미터와 자동으로 로깅"
   ]
  },
  {
   "cell_type": "markdown",
   "id": "56959d1f",
   "metadata": {},
   "source": [
    "<br>\n",
    "\n",
    "#### 4.1.6.3 MLflow Model\n",
    "\n",
    "- 모델은 모델 파일과 코드로 저장\n",
    "- 다양한 플랫폼에 배포할 수 있는 여러 도구 제공\n",
    "- MLflow Tracking API를 사용하면 MLflow는 자동으로 해당 프로젝트에 대한 내용을 사용함"
   ]
  },
  {
   "cell_type": "markdown",
   "id": "da3b6932",
   "metadata": {},
   "source": [
    "<br>\n",
    "\n",
    "#### 4.1.6.4 MLflow Registry\n",
    "\n",
    "- MLflow Model의 전체 Lifecycle에서 사용할 수 있는 중앙 모델 저장소"
   ]
  },
  {
   "cell_type": "markdown",
   "id": "6a866b26",
   "metadata": {},
   "source": [
    "<br>\n",
    "\n",
    "## 4.2 MLflow Tracking"
   ]
  },
  {
   "cell_type": "markdown",
   "id": "10d98940",
   "metadata": {},
   "source": [
    "### 4.2.1 MLflow 설치\n",
    "\n",
    "```bash\n",
    "pip install mlflow\n",
    "```"
   ]
  },
  {
   "cell_type": "markdown",
   "id": "5bf8b1f5",
   "metadata": {},
   "source": [
    "<br>\n",
    "\n",
    "### 4.2.2 MLflow Tracking - Experiment"
   ]
  },
  {
   "cell_type": "markdown",
   "id": "394c578f",
   "metadata": {},
   "source": [
    "#### 4.2.2.1 Experiment (실험)\n",
    "\n",
    "- MLflow에서 제일 먼저 Experiment를 생성\n",
    "- 하나의 Experiment는 진행하고 있는 머신러닝 프로젝트 단위로 구성\n",
    "  - ex) \"개/고양이 이미지 분류 실험\", \"택시 수요량 예측 분류 실험\""
   ]
  },
  {
   "cell_type": "markdown",
   "id": "1eebd069",
   "metadata": {},
   "source": [
    "- 정해진 Metric으로 모델을 평가\n",
    "  - ex) RMSE, MSE, MAE, Accuracy"
   ]
  },
  {
   "cell_type": "markdown",
   "id": "f9ab424d",
   "metadata": {},
   "source": [
    "- 하나의 Experiment는 여러 Run(실행)을 가짐"
   ]
  },
  {
   "cell_type": "markdown",
   "id": "618c7054",
   "metadata": {},
   "source": [
    "<br>\n",
    "\n",
    "#### 4.2.2.2 Experiment 생성\n",
    "\n",
    "```bash\n",
    "mlflow experiments create --experiment-name my-first-experiment\n",
    "```\n",
    "\n",
    "- `ls -al`을 사용해 폴더를 확인하면 `mlruns`라는 폴더가 생김\n",
    "  - `mlruns`는 실험(experiment)에 대한 실행(run)에 대한 정보를 저장하고 있다."
   ]
  },
  {
   "cell_type": "markdown",
   "id": "09c725ce",
   "metadata": {},
   "source": [
    "<br>\n",
    "\n",
    "#### 4.2.2.3 Experiment 리스트 확인\n",
    "\n",
    "```bash\n",
    "mlflow experiments list\n",
    "```"
   ]
  },
  {
   "cell_type": "markdown",
   "id": "0378917a",
   "metadata": {},
   "source": [
    "<br>\n",
    "\n",
    "### 4.2.3 MLflow 머신러닝 코드 작성"
   ]
  },
  {
   "cell_type": "markdown",
   "id": "5db6352e",
   "metadata": {},
   "source": [
    "#### 4.2.3.1 모델에 필요한 라이브러리 설치\n",
    "\n",
    "```bash\n",
    "pip install numpy sklearn\n",
    "```"
   ]
  },
  {
   "cell_type": "markdown",
   "id": "0dc81c6a",
   "metadata": {},
   "source": [
    "<br>\n",
    "\n",
    "#### 4.2.3.2 폴더 생성 후, 머신러닝 코드 생성\n",
    "\n",
    "```bash\n",
    "mkdir logistic_regression\n",
    "vi logistic_regression/train.py\n",
    "```\n",
    "\n",
    "`train.py`\n",
    "\n",
    "```python\n",
    "import numpy as np\n",
    "from sklearn.linear_model import LogisticRegression\n",
    "\n",
    "import mlflow\n",
    "import mlflow.sklearn\n",
    "\n",
    "if __name__ == \"__main__\":\n",
    "    X = np.array([-2, -1, 0, 1, 2, 1]).reshape(-1, 1)\n",
    "    y = np.array([0, 0, 1, 1, 1, 0])\n",
    "    \n",
    "    penalty = \"elasticnet\"\n",
    "    l1_ratio = 0.1\n",
    "    lr = LogisticRegression(penalty=penalty, l1_ratio=l1_ratio)\n",
    "    \n",
    "    lr.fit(X, y)\n",
    "    \n",
    "    score = lr.score(X, y)\n",
    "    print(\"Score: %s\" % score)\n",
    "    \n",
    "    mlflow.log_param(\"penalty\", penalty)\n",
    "    mlflow.log_param(\"l1_ratio\", 0.1)\n",
    "    mlflow.log_metric(\"score\", score)\n",
    "    mlflow.sklearn.log_model(lr, \"model\")\n",
    "```"
   ]
  },
  {
   "cell_type": "markdown",
   "id": "a98345ce",
   "metadata": {},
   "source": [
    "<br>\n",
    "\n",
    "### 4.2.4 MLflow Project"
   ]
  },
  {
   "cell_type": "markdown",
   "id": "2a9f7a06",
   "metadata": {},
   "source": [
    "#### 4.2.4.1 프로젝트 (MLProject)\n",
    "\n",
    "- MLflow를 사용한 코드의 프로젝트 메타 정보 저장\n",
    "- 프로젝트를 어떤 환경에서 어떻게 실행시킬지 정의\n",
    "- 패키지 모듈의 상단에 위치"
   ]
  },
  {
   "cell_type": "markdown",
   "id": "bae5153c",
   "metadata": {},
   "source": [
    "<br>\n",
    "\n",
    "#### 4.2.4.2 `MLProject` 생성\n",
    "\n",
    "```bash\n",
    "vi logistic_regression/MLProject\n",
    "```"
   ]
  },
  {
   "cell_type": "markdown",
   "id": "8aea5f68",
   "metadata": {},
   "source": [
    "```\n",
    "name: tutorial\n",
    "\n",
    "entry_points:\n",
    "  main:\n",
    "    command: \"python train.py\"\n",
    "```"
   ]
  },
  {
   "cell_type": "markdown",
   "id": "353f99e2",
   "metadata": {},
   "source": [
    "<br>\n",
    "\n",
    "### 4.2.5 MLflow Tracking - Run"
   ]
  },
  {
   "cell_type": "markdown",
   "id": "74834e12",
   "metadata": {},
   "source": [
    "#### 4.2.5.1 Run (실행)\n",
    "\n",
    "- 하나의 Run은 코드를 1번 실행한 것을 의미\n",
    "- 보통 Run은 모델 학습 코드를 실행\n",
    "- 즉, 한번의 코드 실행 = 하나의 Run 생성\n",
    "- Run을 하면 여러가지 내용이 기록됨"
   ]
  },
  {
   "cell_type": "markdown",
   "id": "75b3b8a1",
   "metadata": {},
   "source": [
    "<br>\n",
    "\n",
    "#### 4.2.5.2 Run에서 로깅하는 것들\n",
    "\n",
    "\n",
    "- Source\n",
    "  - 실행한 Project의 이름\n",
    "- Version\n",
    "  - 실행 Hash\n",
    "- Start & end time\n",
    "- Parameters\n",
    "  - 모델 파라미터\n",
    "- Metrics\n",
    "  - 모델의 평가 지표\n",
    "  - Metric을 시각화할 수 있음\n",
    "- Tags\n",
    "  - 관련된 Tag\n",
    "- Artifacts\n",
    "  - 실행 과정에서 생기는 다양한 파일들\n",
    "  - ex) 이미지, 모델 Pickle 등"
   ]
  },
  {
   "cell_type": "markdown",
   "id": "d6c66ad2",
   "metadata": {},
   "source": [
    "<br>\n",
    "\n",
    "#### 4.2.5.3 Run으로 실행\n",
    "\n",
    "```bash\n",
    "mlflow run logistic_regression --experiment-name my-first-experiment --no-conda\n",
    "```"
   ]
  },
  {
   "cell_type": "markdown",
   "id": "cb2a7c97",
   "metadata": {},
   "source": [
    "<br>\n",
    "\n",
    "### 4.2.6 MLflow Tracking - UI"
   ]
  },
  {
   "cell_type": "markdown",
   "id": "d726ea2d",
   "metadata": {},
   "source": [
    "#### 4.2.6.1 UI 실행\n",
    "\n",
    "```bash\n",
    "mlflow ui\n",
    "```"
   ]
  },
  {
   "cell_type": "markdown",
   "id": "418eccc1",
   "metadata": {},
   "source": [
    "<br>\n",
    "\n",
    "#### 4.2.6.2 MLflow UI 접속\n",
    "\n",
    "- `localhost:5000`로 MLflow UI 접속"
   ]
  },
  {
   "cell_type": "markdown",
   "id": "400a49d0",
   "metadata": {},
   "source": [
    "<br>\n",
    "\n",
    "### 4.2.7 MLflow Tracking - Experiment / Run 관계\n",
    "\n",
    "&nbsp;&nbsp;&nbsp;&nbsp;&nbsp;\n",
    "<img src='https://drive.google.com/uc?id=1zNrXcGfuI-hT5mKvXJUEGd8Y3b9xBt6J' width=600/>"
   ]
  },
  {
   "cell_type": "markdown",
   "id": "3051c83b",
   "metadata": {},
   "source": [
    "<br>\n",
    "\n",
    "### 4.2.8 MLflow autolog\n",
    "\n",
    "- 파라미터를 매번 명시해야 할까?\n",
    "\n",
    "&nbsp;&nbsp;&nbsp;&nbsp;&nbsp;\n",
    "<img src='https://drive.google.com/uc?id=1zODidnEkx2qjzwJmrzc1k0oZ2qakho0f' width=800/>"
   ]
  },
  {
   "cell_type": "markdown",
   "id": "534ef8d7",
   "metadata": {},
   "source": [
    "- autolog 적용 후 run으로 실행\n",
    "\n",
    "```bash\n",
    "mlflow run logistic_regression_with_autolog --experiment-name my-first-experiment --no-conda\n",
    "```"
   ]
  },
  {
   "cell_type": "markdown",
   "id": "10616382",
   "metadata": {},
   "source": [
    "<br>\n",
    "\n",
    "- mlflow ui에서 모니터링"
   ]
  },
  {
   "cell_type": "markdown",
   "id": "a68fc216",
   "metadata": {},
   "source": [
    "<br>\n",
    "\n",
    "주의사항\n",
    "\n",
    "- autolog는 모든 프레임워크에서 사용 가능한 것은 아님\n",
    "- MLflow에서 지원해주는 프레임워크들이 존재\n",
    "  - ex) `pytorch.nn.Module`은 지원하지 않음 (반면 Pytorch Lightning은 지원)\n",
    "  - 자세한 내용은 https://mlflow.org/docs/latest/tracking.html#id2 에서 확인"
   ]
  },
  {
   "cell_type": "markdown",
   "id": "8a0032de",
   "metadata": {},
   "source": [
    "- 현재 autolog 지원 중인 라이브러리\n",
    "\n",
    "&nbsp;&nbsp;&nbsp;&nbsp;&nbsp;\n",
    "<img src='https://drive.google.com/uc?id=1zXG_a2G0jRdCN2vudhSwlHeMdnIuibMU' width=400/>"
   ]
  },
  {
   "cell_type": "markdown",
   "id": "963a4741",
   "metadata": {},
   "source": [
    "<br>\n",
    "\n",
    "### 4.2.9 MLflow Parameter\n",
    "\n",
    "&nbsp;&nbsp;&nbsp;&nbsp;&nbsp;\n",
    "<img src='https://drive.google.com/uc?id=1zPp5_pPYf600QUAZ69OX-6d43cKHM1B1' width=800/>"
   ]
  },
  {
   "cell_type": "markdown",
   "id": "d5d365ec",
   "metadata": {},
   "source": [
    "&nbsp;&nbsp;&nbsp;&nbsp;&nbsp;\n",
    "<img src='https://drive.google.com/uc?id=1zTHPR4-phtTYL0N0sAVNgtEXbVzaAvV1' width=800/>"
   ]
  },
  {
   "cell_type": "markdown",
   "id": "de07f14b",
   "metadata": {},
   "source": [
    "```bash\n",
    "mlflow run logistic_regression_with_autolog_and_params \\\n",
    "-P solver=\"saga\" \\\n",
    "-P penalty=\"elasticnet\" \\\n",
    "-P l1_ratio=0.01 \\\n",
    "--experiment-name my-first-experiment --no-conda\n",
    "```"
   ]
  },
  {
   "cell_type": "markdown",
   "id": "e3f6768f",
   "metadata": {},
   "source": [
    "<br>\n",
    "\n",
    "### 4.2.10 MLflow Hyper Parameter Tuning\n",
    "\n",
    "- autolog와 하이퍼 파라미터 튜닝도 같이 할 수 있음\n",
    "\n",
    "```python\n",
    "from sklearn import svm, datasets\n",
    "from sklearn.model_selection import GridSearchCV\n",
    "\n",
    "import mlflow\n",
    "\n",
    "def main():\n",
    "    mlflow.sklearn.autolog()\n",
    "    \n",
    "    iris = datasets.load_iris()\n",
    "    parameters = {\"kernel\": (\"linear\", \"rbf\"), \"C\": [1, 10]}\n",
    "    svc = svm.SVC()\n",
    "    clf = GridSearchCV(svc, parameters)\n",
    "    \n",
    "    with mlflow.start_run() as run:\n",
    "        clf.fit(iris.data, iris.target)\n",
    "        \n",
    "if __name__ == \"__main__\":\n",
    "    main()\n",
    "```"
   ]
  },
  {
   "cell_type": "markdown",
   "id": "274b5c9e",
   "metadata": {},
   "source": [
    "<br>\n",
    "\n",
    "```bash\n",
    "mlflow run svc_with_hyperparams_tuning --experiment-name my-first-experiment --no-conda\n",
    "```"
   ]
  },
  {
   "cell_type": "markdown",
   "id": "279403d1",
   "metadata": {},
   "source": [
    "<br>\n",
    "\n",
    "## 4.3 MLflow 서버로 배포하기\n",
    "\n",
    "- 개인 프로젝트를 할 때나 캐글같은 대회에 참여할 때 mlflow를 사용하기 위해 docker image로 만들어 놓으면 좋을 것이다.\n",
    "- mlflow 서버로 배포하여 협업할 수 있다."
   ]
  },
  {
   "cell_type": "markdown",
   "id": "b3a9da05",
   "metadata": {},
   "source": [
    "<br>\n",
    "\n",
    "### 4.3.1 MLflow Architecture\n",
    "\n",
    "&nbsp;&nbsp;&nbsp;&nbsp;&nbsp;\n",
    "<img src='https://drive.google.com/uc?id=1zUDFiVVtQ4HCNI1Pzr5nWIj0N_wGxvhG' width=800/>\n",
    "\n",
    "1. 파이썬 코드 (with MLflow package)\n",
    "2. Tracking Server\n",
    "3. Artifact Store"
   ]
  },
  {
   "cell_type": "markdown",
   "id": "702db323",
   "metadata": {},
   "source": [
    "- 트리 확인\n",
    "\n",
    "```bash\n",
    "tree mlruns\n",
    "```"
   ]
  },
  {
   "cell_type": "markdown",
   "id": "19ceffed",
   "metadata": {},
   "source": [
    "<br>\n",
    "\n",
    "#### 4.3.1.1 파이썬 코드 (with MLflow package)\n",
    "\n",
    "- 모델을 만들고 학습하는 코드\n",
    "- `mlflow run`으로 실행"
   ]
  },
  {
   "cell_type": "markdown",
   "id": "8e75b596",
   "metadata": {},
   "source": [
    "```python\n",
    "from sklearn import svm, datasets\n",
    "from sklearn.model_selection import GridSearchCV\n",
    "\n",
    "import mlflow\n",
    "\n",
    "def main():\n",
    "    mlflow.sklearn.autolog()\n",
    "    \n",
    "    iris = datasets.load_iris()\n",
    "    parameters = {\"kernel\": (\"linear\", \"rbf\"), \"C\": [1, 10]}\n",
    "    svc = svm.SVC()\n",
    "    clf = GridSearchCV(svc, parameters)\n",
    "    \n",
    "    with mlflow.start_run() as run:\n",
    "        clf.fit(iris.data, iris.target)\n",
    "        \n",
    "if __name__ == \"__main__\":\n",
    "    main()\n",
    "```"
   ]
  },
  {
   "cell_type": "markdown",
   "id": "3e83418a",
   "metadata": {},
   "source": [
    "<br>\n",
    "\n",
    "#### 4.3.1.2 Tacking Server\n",
    "\n",
    "- 파이썬 코드가 실행되는 동안 Parameter, Metric, Model 등 메타 정보 저장\n",
    "- 파일 혹은 DB에 저장"
   ]
  },
  {
   "cell_type": "markdown",
   "id": "04903243",
   "metadata": {},
   "source": [
    "<br>\n",
    "\n",
    "#### 4.3.1.3 Artifact Store\n",
    "\n",
    "- 파이썬 코드가 실행되는 동안 생기는 Model File, Image 등의 artifact를 저장\n",
    "- 파일 혹은 스토리지에 저장"
   ]
  },
  {
   "cell_type": "markdown",
   "id": "8f6d69ad",
   "metadata": {},
   "source": [
    "<br>\n",
    "\n",
    "### 4.3.2 Tracking Server와 외부 스토리지 사용하기\n",
    "\n",
    "&nbsp;&nbsp;&nbsp;&nbsp;&nbsp;\n",
    "<img src='https://drive.google.com/uc?id=1zUI685D3iMwdV2gK5_R3fuYOonbIgigA' width=800/>"
   ]
  },
  {
   "cell_type": "markdown",
   "id": "822b4406",
   "metadata": {},
   "source": [
    "<br>\n",
    "\n",
    "- `mlflow server` 명령어로 Backend Store URI 지정\n",
    "\n",
    "```bash\n",
    "mlflow server --backend-store-uri sqlite:///mlflow.db --default-artifact-root $(pwd)/artifacts\n",
    "```"
   ]
  },
  {
   "cell_type": "markdown",
   "id": "64d942d6",
   "metadata": {},
   "source": [
    "<br>\n",
    "\n",
    "- 환경변수 지정\n",
    "\n",
    "```bash\n",
    "export MLFLOW_TRACKING_URI=\"http://127.0.0.1:5000\"\n",
    "```"
   ]
  },
  {
   "cell_type": "markdown",
   "id": "551a0572",
   "metadata": {},
   "source": [
    "<br>\n",
    "\n",
    "- Experiments를 생성한 후, Run\n",
    "\n",
    "```bash\n",
    "mlflow experiments create --experiment-name my-experiment\n",
    "```\n",
    "\n",
    "```bash\n",
    "mlflow run svc_with_hyperparams_tuning --experiment-name my-experiment --no-conda\n",
    "```"
   ]
  },
  {
   "cell_type": "markdown",
   "id": "d10dfe08",
   "metadata": {},
   "source": [
    "<br>\n",
    "\n",
    "- mlflow ui 화면에서 저장된 데이터를 확인할 수 있음"
   ]
  },
  {
   "cell_type": "markdown",
   "id": "1bc6e5ae",
   "metadata": {},
   "source": [
    "<br>\n",
    "\n",
    "&nbsp;&nbsp;&nbsp;&nbsp;&nbsp;\n",
    "<img src='https://drive.google.com/uc?id=1zVUJLNCBlAmy3vtLSMbCtWzM-z4_4c-C' width=800/>"
   ]
  },
  {
   "cell_type": "markdown",
   "id": "97962714",
   "metadata": {},
   "source": [
    "<br>\n",
    "\n",
    "- `artifacts` 폴더와 `mlflow.db` 파일이 저장된 것 확인"
   ]
  },
  {
   "cell_type": "markdown",
   "id": "67381d96",
   "metadata": {},
   "source": [
    "<br>\n",
    "\n",
    "### 4.3.3 MLflow 실제 활용 사례\n",
    "\n",
    "MLflow Tracking Server는 하나로 통합 운영\n",
    "\n",
    "- Tracking Server를 하나 배포하고, 팀 내 모든 Researcher가 이 Tracking Server에 실험 기록\n",
    "  - Tracking Server를 배포할 때는 Docker Image, Kubernetes 등에 진행\n",
    "    - 회사의 인프라에 따라 다름\n",
    "- 로그나 모델이 한 곳에 저장되므로, 팀 내 모든 실험을 공유할 수 있음\n",
    "- Artifact Storage와 DB 역시 하나로 운영\n",
    "  - Artifact Storage는 GCS나 S3 같은 스토리지 이용\n",
    "  - DB는 CloudSQL이나 Aurora RDS 같은 DB 이용\n",
    "- 이 두 저장소는 Tracking Server에 의해 관리"
   ]
  },
  {
   "cell_type": "markdown",
   "id": "0a73f9d7",
   "metadata": {},
   "source": [
    "<br>\n",
    "\n",
    "## 4.4 Special Mission\n",
    "\n",
    "1. 개인의 Local에 Mlflow 환경 설정 (pip install)\n",
    "2. 개인의 Local에 MLflow 환경 설정 (Docker)\n",
    "3. 팀에서 공통적으로 사용할 MLflow Tracking Server GCP에 배포하기"
   ]
  },
  {
   "cell_type": "code",
   "execution_count": null,
   "id": "0e2fbba0",
   "metadata": {},
   "outputs": [],
   "source": []
  }
 ],
 "metadata": {
  "kernelspec": {
   "display_name": "Python 3 (ipykernel)",
   "language": "python",
   "name": "python3"
  },
  "language_info": {
   "codemirror_mode": {
    "name": "ipython",
    "version": 3
   },
   "file_extension": ".py",
   "mimetype": "text/x-python",
   "name": "python",
   "nbconvert_exporter": "python",
   "pygments_lexer": "ipython3",
   "version": "3.8.12"
  }
 },
 "nbformat": 4,
 "nbformat_minor": 5
}
