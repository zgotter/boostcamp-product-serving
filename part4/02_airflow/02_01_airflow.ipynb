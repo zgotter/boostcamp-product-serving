{
 "cells": [
  {
   "cell_type": "markdown",
   "id": "33ecf55e",
   "metadata": {},
   "source": [
    "# 2. Airflow"
   ]
  },
  {
   "cell_type": "markdown",
   "id": "0950885c",
   "metadata": {},
   "source": [
    "## 2.1 Apache Airflow 소개"
   ]
  },
  {
   "cell_type": "markdown",
   "id": "6ce93845",
   "metadata": {},
   "source": [
    "### 2.1.1 Batch Process란?"
   ]
  },
  {
   "cell_type": "markdown",
   "id": "a3634e91",
   "metadata": {},
   "source": [
    "<br>\n",
    "\n",
    "### 2.1.2 Batch Process - Airflow 등장 전"
   ]
  },
  {
   "cell_type": "markdown",
   "id": "dff71ae0",
   "metadata": {},
   "source": [
    "크론 표현식\n",
    "\n",
    "- Batch Process의 스케줄링을 정의한 표현식\n",
    "- 이 표현식은 다른 Batch Process 도구에서도 자주 사용됨\n",
    "\n",
    "&nbsp;&nbsp;&nbsp;&nbsp;&nbsp;\n",
    "<img src='https://drive.google.com/uc?id=1yrZCwf6O6pxp64eN-rJKDnrSvGP689rW' width=600/>"
   ]
  },
  {
   "cell_type": "markdown",
   "id": "e5ac202f",
   "metadata": {},
   "source": [
    "크론 표현식 예시\n",
    "\n",
    "&nbsp;&nbsp;&nbsp;&nbsp;&nbsp;\n",
    "<img src='https://drive.google.com/uc?id=1yowG_XY44z2BQyXA3UzjfvbgwnYy8JAu' width=600/>"
   ]
  },
  {
   "cell_type": "markdown",
   "id": "e6214d90",
   "metadata": {},
   "source": [
    "- 크론탭 제네레이터\n",
    "  - [http://www.cronmaker.com](http://www.cronmaker.com)"
   ]
  },
  {
   "cell_type": "markdown",
   "id": "bfdde53c",
   "metadata": {},
   "source": [
    "- UTC timestamp는 한국 시간이랑 9시간 차이가 난다.\n",
    "  - UTC 0시 -> 한국 시간 오전 9시"
   ]
  },
  {
   "cell_type": "markdown",
   "id": "d0c2a517",
   "metadata": {},
   "source": [
    "- 크론탭 해석\n",
    "  - [https://crontab.guru/](https://crontab.guru/)"
   ]
  },
  {
   "cell_type": "markdown",
   "id": "350ff570",
   "metadata": {},
   "source": [
    "<br>\n",
    "\n",
    "### 2.1.3 Airflow 소개"
   ]
  },
  {
   "cell_type": "markdown",
   "id": "3ca83648",
   "metadata": {},
   "source": [
    "<br>\n",
    "\n",
    "## 2.2 Apache Airflow 실습하며 배워보기"
   ]
  },
  {
   "cell_type": "markdown",
   "id": "058b71b9",
   "metadata": {},
   "source": [
    "### 2.2.1 설치하고 실행하기"
   ]
  },
  {
   "cell_type": "markdown",
   "id": "eba22137",
   "metadata": {},
   "source": [
    "<br>\n",
    "\n",
    "### 2.2.2 DAG 작성하기"
   ]
  },
  {
   "cell_type": "markdown",
   "id": "d145fa71",
   "metadata": {},
   "source": [
    "<br>\n",
    "\n",
    "### 2.2.3 유용한 Operator 간단 소개"
   ]
  },
  {
   "cell_type": "markdown",
   "id": "f044a8be",
   "metadata": {},
   "source": [
    "<br>\n",
    "\n",
    "## 2.3 Apache Airflow 아키텍처와 활용방안"
   ]
  },
  {
   "cell_type": "markdown",
   "id": "79ad0636",
   "metadata": {},
   "source": [
    "### 2.3.1 기본 아키텍처"
   ]
  },
  {
   "cell_type": "markdown",
   "id": "200a7023",
   "metadata": {},
   "source": [
    "<br>\n",
    "\n",
    "### 2.3.2 Airflow 실제 활용 사례 3.3 MLOps 관점의 Airflow"
   ]
  },
  {
   "cell_type": "code",
   "execution_count": null,
   "id": "2435e5d8",
   "metadata": {},
   "outputs": [],
   "source": []
  }
 ],
 "metadata": {
  "kernelspec": {
   "display_name": "Python 3 (ipykernel)",
   "language": "python",
   "name": "python3"
  },
  "language_info": {
   "codemirror_mode": {
    "name": "ipython",
    "version": 3
   },
   "file_extension": ".py",
   "mimetype": "text/x-python",
   "name": "python",
   "nbconvert_exporter": "python",
   "pygments_lexer": "ipython3",
   "version": "3.8.12"
  }
 },
 "nbformat": 4,
 "nbformat_minor": 5
}
