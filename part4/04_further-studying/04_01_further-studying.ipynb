{
 "cells": [
  {
   "cell_type": "markdown",
   "id": "0b7a53a0",
   "metadata": {},
   "source": [
    "# 4. 앞으로 더 공부하면 좋을 내용"
   ]
  },
  {
   "cell_type": "markdown",
   "id": "a3a12b20",
   "metadata": {},
   "source": [
    "## 4.1 공부하면 좋을 내용"
   ]
  },
  {
   "cell_type": "markdown",
   "id": "a114ff47",
   "metadata": {},
   "source": [
    "### 4.1.1 개발\n",
    "\n",
    "- AI Engineer, ML Engineer는 결국 “엔지니어”\n",
    "- 코드 레벨에서 깊은 이해, 고민이 필요함\n",
    "- Data Engineer도 데이터를 처리하기 위한 개발 학습이 필요\n",
    "- 데이터 분석가에 가깝다고 하면 데이터 분석 역량에 집중해야 하지만, 코드 역량이 뛰어날수록 퍼포먼스가 높아짐"
   ]
  },
  {
   "cell_type": "markdown",
   "id": "a829ce50",
   "metadata": {},
   "source": [
    "<br>\n",
    "\n",
    "#### 4.1.1.1 Python\n",
    "\n",
    "- 우리는 Python을 잘 알고 있는가?\n",
    "- 엄청 Low Level까진 필요하지 않을 수 있지만, 기본적으로 학습한 내용보단 한단계 더 학습하는 습관 가지기\n",
    "- Generator, Decorator, GIL 등\n",
    "- 멀티프로세싱은 어떻게 동작하는가\n",
    "- 메모리 영역에서 어떤 일이 발생하는가"
   ]
  },
  {
   "cell_type": "markdown",
   "id": "6ff0d8ba",
   "metadata": {},
   "source": [
    "- [인프런 파이썬 중급 프로그래밍](https://www.inflearn.com/course/%ED%94%84%EB%A1%9C%EA%B7%B8%EB%9E%98%EB%B0%8D-%ED%8C%8C%EC%9D%B4%EC%8D%AC-%EC%A4%91%EA%B8%89-%EC%9D%B8%ED%94%84%EB%9F%B0-%EC%98%A4%EB%A6%AC%EC%A7%80%EB%84%90)"
   ]
  },
  {
   "cell_type": "markdown",
   "id": "77e9b43a",
   "metadata": {},
   "source": [
    "- 추천 책: [파이썬 코딩의 기술](http://www.yes24.com/Product/Goods/94197582)"
   ]
  },
  {
   "cell_type": "markdown",
   "id": "ce2c91eb",
   "metadata": {},
   "source": [
    "<br>\n",
    "\n",
    "#### 4.1.1.2 Linux\n",
    "\n",
    "- 서버에서 사용하는 Linux는 앞으로도 계속 함께할 OS\n",
    "- Linux 파일 시스템, 유저 권한, Process\n",
    "- 나아가서는 Linux Kernel\n",
    "- 추천 책\n",
    "  - [김태용의 리눅스 쉘 스크립트 프로그래밍 입문](http://www.yes24.com/Product/Goods/3538385)\n",
    "  - [만화로 배우는 리눅스 시스템 관리](http://www.yes24.com/Product/Goods/30705473)\n",
    "  - [유닉스 리눅스 셸 스트립트 예제 사전](http://www.yes24.com/Product/Goods/19992172)"
   ]
  },
  {
   "cell_type": "markdown",
   "id": "9de8bbd6",
   "metadata": {},
   "source": [
    "<br>\n",
    "\n",
    "#### 4.1.1.3 클린 코드\n",
    "\n",
    "더 좋은 코드 퀄리티를 생산하기 위한 노력\n",
    "\n",
    "- 클린 코드\n",
    "- 클린 아키텍처\n",
    "- DDD(Domain Driven Development)\n",
    "- 추천 책\n",
    "  - [파이썬 클린코드](http://www.yes24.com/Product/Goods/69064790)\n",
    "  - [파이썬으로 살펴보는 아키텍처 패턴](http://www.yes24.com/Product/Goods/101818336)\n",
    "  - [Clean Code 클린 코드](http://www.yes24.com/Product/Goods/11681152)"
   ]
  },
  {
   "cell_type": "markdown",
   "id": "b35b6d84",
   "metadata": {},
   "source": [
    "<br>\n",
    "\n",
    "### 4.1.2 데이터 엔지니어링\n",
    "\n",
    "- AI Engineer는 데이터 모델링 + 데이터 개발 영역을 커버하길 원하는 추세\n",
    "- 실시간 데이터를 어떻게 전처리하고, 가져올 지에 대한 이해도가 있을수록 좋음\n",
    "- 데이터 엔지니어링 관련 생태계도 엄청 넓은 상태. 하나씩 격파하기\n",
    "- 추천 책\n",
    "  - [빅데이터를 지탱하는 기술](http://www.yes24.com/Product/Goods/66277191)\n",
    "  - [데이터 중심 애플리케이션 설계](http://www.yes24.com/Product/Goods/59566585)"
   ]
  },
  {
   "cell_type": "markdown",
   "id": "782d204f",
   "metadata": {},
   "source": [
    "- 실시간 데이터 처리\n",
    "  - Kafka, Apache Spark Streaming, ...\n",
    "- 메세지 시스템\n",
    "  - Kafka, Redis, AWS SQS, GCP PubSub, Celery\n",
    "- 분산 처리\n",
    "  - Ray, Apache Spark\n",
    "- 데이터 웨어하우스\n",
    "  - GCP BigQuery, AWS Redshift\n",
    "- 캐싱\n",
    "  - Redis\n",
    "- BI (Business Intelligence)\n",
    "  - Superset, Redash, Metabase\n",
    "- ETL 파이프라인\n",
    "  - 어떻게 구성할 것인가?"
   ]
  },
  {
   "cell_type": "markdown",
   "id": "19cc97b0",
   "metadata": {},
   "source": [
    "<br>\n",
    "\n",
    "### 4.1.3 Computer Science\n",
    "\n",
    "Computer Science에 대한 이해\n",
    "\n",
    "- 네트워크\n",
    "- OS\n",
    "- 자료구조\n",
    "- 알고리즘"
   ]
  },
  {
   "cell_type": "markdown",
   "id": "9e66acdc",
   "metadata": {},
   "source": [
    "<br>\n",
    "\n",
    "### 4.1.4 Cloud, Infra\n",
    "\n",
    "- 클라우드 환경 작업이 점점 익숙해지는 상황 (큰 회사의 경우 아니지만)\n",
    "- 어느정도 인프라에 대한 이해가 있을수록 인프라 엔지니어와 이야기할 때 수월함\n",
    "- Docker를 넘어서서 Kubernetes 학습!\n",
    "- CI/CD를 더 잘하기 위한 방법도 고민\n",
    "- 추천 책\n",
    "  - [핵심만 콕! 쿠버네티스](http://www.yes24.com/Product/Goods/92426926)"
   ]
  },
  {
   "cell_type": "markdown",
   "id": "a37e5821",
   "metadata": {},
   "source": [
    "IaaC\n",
    "\n",
    "- 우리가 직접 클릭하면서 클라우드 서비스를 사용했으나, 인프라를 관리할 수 있는 \"Terraform\"\n",
    "- 인프라 환경 설정할 경우 매우 유용\n",
    "- [44bits의 Terraform 글](https://www.44bits.io/ko/keyword/terraform)"
   ]
  },
  {
   "cell_type": "markdown",
   "id": "5837a520",
   "metadata": {},
   "source": [
    "Monitoring\n",
    "\n",
    "- 모니터링을 더 잘하기 위한 고민도 필요\n",
    "- Prometheus (https://github.com/prometheus/prometheus)\n",
    "- Grafana (https://github.com/grafana/grafana)"
   ]
  },
  {
   "cell_type": "markdown",
   "id": "56ce809f",
   "metadata": {},
   "source": [
    "<br>\n",
    "\n",
    "### 4.1.5 Database\n",
    "\n",
    "- 데이터를 저장하는 곳은 Object Storage, NoSQL도 있지만 여전히 RDB에 저장을 많이 함\n",
    "- 효율적으로 저장하려면 어떻게 해야 할까?\n",
    "  - Index 전략 등\n",
    "- 저장한 데이터를 추출할 수 있도록 SQL\n",
    "- 데이터 웨어하우스로 데이터를 옮기기 위한 고민"
   ]
  },
  {
   "cell_type": "markdown",
   "id": "da328b54",
   "metadata": {},
   "source": [
    "<br>\n",
    "\n",
    "### 4.1.6 Modeling\n",
    "\n",
    "- 개발자니까 인프라, 개발만 신경써야지! 보단 머신러닝 모델링에 대한 이해도 있고, Researcher나 Scientist 분들에게 \"이 부분이 불편하니 이렇게 개선해보면 어떨까요?\"라고 제안할 수 있는 사람이 되자.\n",
    "- 최근 논문의 방향성, SOTA 등을 어느 정도 파악해두는 정도라도!"
   ]
  },
  {
   "cell_type": "markdown",
   "id": "e24bd67d",
   "metadata": {},
   "source": [
    "<br>\n",
    "\n",
    "### 4.1.7 추천 컨텐츠 - 기술 블로그 & 발표 영상 & 논문\n",
    "\n",
    "공부할 때 \"책\", \"강의\"를 보는 방법을 이젠 넘어설 시기"
   ]
  },
  {
   "cell_type": "markdown",
   "id": "39904666",
   "metadata": {},
   "source": [
    "각종 회사의 기술 블로그 찾아보기\n",
    "\n",
    "- [github - 기술 블로그 모음](https://github.com/seonggwonyoon/techblog)\n",
    "- 어떤 기술을 \"왜\" 사용했는가? (어떤 상황이였고, 어떻게 문제 정의했는가)\n",
    "- 기술 블로그 내용을 잘 정리하고, 추상화해서 기록해보기\n",
    "  - 이 산업에선 이 회사에선 이렇게 풀었다, 동종 업계인 다른 회사는 저런 방식으로 풀었다 등\n",
    "- 취업이 아니라 긴 커리어를 가지기 위해서도 좋음\n",
    "- 해외는 Uber, Door Dash 추천\n",
    "  - Uber는 데이터 엔지니어링 논문도 종종 Publish"
   ]
  },
  {
   "cell_type": "markdown",
   "id": "d6e0ce14",
   "metadata": {},
   "source": [
    "발표 영상\n",
    "\n",
    "- 회사별로 컨퍼런스하는 추세, 커뮤니티 행사도 여전히 존재\n",
    "  - 네이버의 DEVIEW\n",
    "  - 카카오의 IFKAKAO\n",
    "  - 토스의 SLASH\n",
    "  - 우아한 형제들의 우아콘\n",
    "  - 데이터야놀자\n",
    "  - PyCon\n",
    "- 기술 블로그와 마찬가지로 \"왜?\"를 고민하기\n",
    "- 컨퍼런스를 날 잡고 보는 것도 추천 + 친구들과 같이 토론해보기\n",
    "- DEVIEW는 2009년부터 존재 -> 과거엔 어떤 발표가 있었는 지 살펴보기\n",
    "  - 이 당시엔 이런 생각을 가지고 A 프레임워크가 제일 좋았구나\n",
    "  - 현재는 이 부분을 개선하기 위해 이런 것들을 만들었구나"
   ]
  },
  {
   "cell_type": "markdown",
   "id": "d01b237a",
   "metadata": {},
   "source": [
    "논문\n",
    "\n",
    "- 머신러닝, 딥러닝 논문\n",
    "- 데이터 엔지니어링 논문\n",
    "- CS(Computer Sciencee) 논문\n",
    "- 라이브러리, 프레임워크의 논문(Hadoop, Ray 등)\n",
    "- 왜 만들어졌는 지에 초점을 가지면서 의문 가지기"
   ]
  },
  {
   "cell_type": "code",
   "execution_count": null,
   "id": "ec89a8e4",
   "metadata": {},
   "outputs": [],
   "source": []
  }
 ],
 "metadata": {
  "kernelspec": {
   "display_name": "Python 3 (ipykernel)",
   "language": "python",
   "name": "python3"
  },
  "language_info": {
   "codemirror_mode": {
    "name": "ipython",
    "version": 3
   },
   "file_extension": ".py",
   "mimetype": "text/x-python",
   "name": "python",
   "nbconvert_exporter": "python",
   "pygments_lexer": "ipython3",
   "version": "3.8.12"
  }
 },
 "nbformat": 4,
 "nbformat_minor": 5
}
